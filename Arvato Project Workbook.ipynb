{
 "cells": [
  {
   "cell_type": "markdown",
   "metadata": {},
   "source": [
    "# Capstone Project: Create a Customer Segmentation Report for Arvato Financial Services\n",
    "\n",
    "In this project, you will analyze demographics data for customers of a mail-order sales company in Germany, comparing it against demographics information for the general population. You'll use unsupervised learning techniques to perform customer segmentation, identifying the parts of the population that best describe the core customer base of the company. Then, you'll apply what you've learned on a third dataset with demographics information for targets of a marketing campaign for the company, and use a model to predict which individuals are most likely to convert into becoming customers for the company. The data that you will use has been provided by our partners at Bertelsmann Arvato Analytics, and represents a real-life data science task.\n",
    "\n",
    "If you completed the first term of this program, you will be familiar with the first part of this project, from the unsupervised learning project. The versions of those two datasets used in this project will include many more features and has not been pre-cleaned. You are also free to choose whatever approach you'd like to analyzing the data rather than follow pre-determined steps. In your work on this project, make sure that you carefully document your steps and decisions, since your main deliverable for this project will be a blog post reporting your findings."
   ]
  },
  {
   "cell_type": "code",
   "execution_count": 85,
   "metadata": {},
   "outputs": [],
   "source": [
    "# import libraries here; add more as necessary\n",
    "import numpy as np\n",
    "import pandas as pd\n",
    "import matplotlib.pyplot as plt\n",
    "import seaborn as sns\n",
    "import time\n",
    "\n",
    "# magic word for producing visualizations in notebook\n",
    "%matplotlib inline\n",
    "\n",
    "# sklearn\n",
    "from sklearn.preprocessing import StandardScaler, Imputer\n",
    "from sklearn.decomposition import PCA\n",
    "from sklearn.cluster import KMeans\n",
    "from sklearn.ensemble import RandomForestClassifier\n",
    "from sklearn.model_selection import GridSearchCV, train_test_split\n",
    "from sklearn.metrics import confusion_matrix,precision_recall_fscore_support\n",
    "from sklearn.utils.multiclass import unique_labels\n",
    "\n",
    "#\n",
    "from imblearn.over_sampling import RandomOverSampler"
   ]
  },
  {
   "cell_type": "markdown",
   "metadata": {},
   "source": [
    "## Part 0: Get to Know the Data\n",
    "\n",
    "There are four data files associated with this project:\n",
    "\n",
    "- `Udacity_AZDIAS_052018.csv`: Demographics data for the general population of Germany; 891 211 persons (rows) x 366 features (columns).\n",
    "- `Udacity_CUSTOMERS_052018.csv`: Demographics data for customers of a mail-order company; 191 652 persons (rows) x 369 features (columns).\n",
    "- `Udacity_MAILOUT_052018_TRAIN.csv`: Demographics data for individuals who were targets of a marketing campaign; 42 982 persons (rows) x 367 (columns).\n",
    "- `Udacity_MAILOUT_052018_TEST.csv`: Demographics data for individuals who were targets of a marketing campaign; 42 833 persons (rows) x 366 (columns).\n",
    "\n",
    "Each row of the demographics files represents a single person, but also includes information outside of individuals, including information about their household, building, and neighborhood. Use the information from the first two files to figure out how customers (\"CUSTOMERS\") are similar to or differ from the general population at large (\"AZDIAS\"), then use your analysis to make predictions on the other two files (\"MAILOUT\"), predicting which recipients are most likely to become a customer for the mail-order company.\n",
    "\n",
    "The \"CUSTOMERS\" file contains three extra columns ('CUSTOMER_GROUP', 'ONLINE_PURCHASE', and 'PRODUCT_GROUP'), which provide broad information about the customers depicted in the file. The original \"MAILOUT\" file included one additional column, \"RESPONSE\", which indicated whether or not each recipient became a customer of the company. For the \"TRAIN\" subset, this column has been retained, but in the \"TEST\" subset it has been removed; it is against that withheld column that your final predictions will be assessed in the Kaggle competition.\n",
    "\n",
    "Otherwise, all of the remaining columns are the same between the three data files. For more information about the columns depicted in the files, you can refer to two Excel spreadsheets provided in the workspace. [One of them](./DIAS Information Levels - Attributes 2017.xlsx) is a top-level list of attributes and descriptions, organized by informational category. [The other](./DIAS Attributes - Values 2017.xlsx) is a detailed mapping of data values for each feature in alphabetical order.\n",
    "\n",
    "In the below cell, we've provided some initial code to load in the first two datasets. Note for all of the `.csv` data files in this project that they're semicolon (`;`) delimited, so an additional argument in the [`read_csv()`](https://pandas.pydata.org/pandas-docs/stable/generated/pandas.read_csv.html) call has been included to read in the data properly. Also, considering the size of the datasets, it may take some time for them to load completely.\n",
    "\n",
    "You'll notice when the data is loaded in that a warning message will immediately pop up. Before you really start digging into the modeling and analysis, you're going to need to perform some cleaning. Take some time to browse the structure of the data and look over the informational spreadsheets to understand the data values. Make some decisions on which features to keep, which features to drop, and if any revisions need to be made on data formats. It'll be a good idea to create a function with pre-processing steps, since you'll need to clean all of the datasets before you work with them."
   ]
  },
  {
   "cell_type": "code",
   "execution_count": 63,
   "metadata": {
    "scrolled": true
   },
   "outputs": [
    {
     "name": "stderr",
     "output_type": "stream",
     "text": [
      "/opt/conda/lib/python3.6/site-packages/IPython/core/interactiveshell.py:2785: DtypeWarning: Columns (18,19) have mixed types. Specify dtype option on import or set low_memory=False.\n",
      "  interactivity=interactivity, compiler=compiler, result=result)\n"
     ]
    }
   ],
   "source": [
    "# load in the data\n",
    "azdias = pd.read_csv('../../data/Term2/capstone/arvato_data/Udacity_AZDIAS_052018.csv', sep=';')\n",
    "azdias_copy = azdias.copy()"
   ]
  },
  {
   "cell_type": "code",
   "execution_count": 4,
   "metadata": {},
   "outputs": [
    {
     "data": {
      "text/html": [
       "<div>\n",
       "<style scoped>\n",
       "    .dataframe tbody tr th:only-of-type {\n",
       "        vertical-align: middle;\n",
       "    }\n",
       "\n",
       "    .dataframe tbody tr th {\n",
       "        vertical-align: top;\n",
       "    }\n",
       "\n",
       "    .dataframe thead th {\n",
       "        text-align: right;\n",
       "    }\n",
       "</style>\n",
       "<table border=\"1\" class=\"dataframe\">\n",
       "  <thead>\n",
       "    <tr style=\"text-align: right;\">\n",
       "      <th></th>\n",
       "      <th>LNR</th>\n",
       "      <th>AGER_TYP</th>\n",
       "      <th>AKT_DAT_KL</th>\n",
       "      <th>ALTER_HH</th>\n",
       "      <th>ALTER_KIND1</th>\n",
       "      <th>ALTER_KIND2</th>\n",
       "      <th>ALTER_KIND3</th>\n",
       "      <th>ALTER_KIND4</th>\n",
       "      <th>ALTERSKATEGORIE_FEIN</th>\n",
       "      <th>ANZ_HAUSHALTE_AKTIV</th>\n",
       "      <th>...</th>\n",
       "      <th>VK_ZG11</th>\n",
       "      <th>W_KEIT_KIND_HH</th>\n",
       "      <th>WOHNDAUER_2008</th>\n",
       "      <th>WOHNLAGE</th>\n",
       "      <th>ZABEOTYP</th>\n",
       "      <th>PRODUCT_GROUP</th>\n",
       "      <th>CUSTOMER_GROUP</th>\n",
       "      <th>ONLINE_PURCHASE</th>\n",
       "      <th>ANREDE_KZ</th>\n",
       "      <th>ALTERSKATEGORIE_GROB</th>\n",
       "    </tr>\n",
       "  </thead>\n",
       "  <tbody>\n",
       "    <tr>\n",
       "      <th>0</th>\n",
       "      <td>9626</td>\n",
       "      <td>2</td>\n",
       "      <td>1.0</td>\n",
       "      <td>10.0</td>\n",
       "      <td>NaN</td>\n",
       "      <td>NaN</td>\n",
       "      <td>NaN</td>\n",
       "      <td>NaN</td>\n",
       "      <td>10.0</td>\n",
       "      <td>1.0</td>\n",
       "      <td>...</td>\n",
       "      <td>2.0</td>\n",
       "      <td>6.0</td>\n",
       "      <td>9.0</td>\n",
       "      <td>7.0</td>\n",
       "      <td>3</td>\n",
       "      <td>COSMETIC_AND_FOOD</td>\n",
       "      <td>MULTI_BUYER</td>\n",
       "      <td>0</td>\n",
       "      <td>1</td>\n",
       "      <td>4</td>\n",
       "    </tr>\n",
       "    <tr>\n",
       "      <th>1</th>\n",
       "      <td>9628</td>\n",
       "      <td>-1</td>\n",
       "      <td>9.0</td>\n",
       "      <td>11.0</td>\n",
       "      <td>NaN</td>\n",
       "      <td>NaN</td>\n",
       "      <td>NaN</td>\n",
       "      <td>NaN</td>\n",
       "      <td>NaN</td>\n",
       "      <td>NaN</td>\n",
       "      <td>...</td>\n",
       "      <td>3.0</td>\n",
       "      <td>0.0</td>\n",
       "      <td>9.0</td>\n",
       "      <td>NaN</td>\n",
       "      <td>3</td>\n",
       "      <td>FOOD</td>\n",
       "      <td>SINGLE_BUYER</td>\n",
       "      <td>0</td>\n",
       "      <td>1</td>\n",
       "      <td>4</td>\n",
       "    </tr>\n",
       "    <tr>\n",
       "      <th>2</th>\n",
       "      <td>143872</td>\n",
       "      <td>-1</td>\n",
       "      <td>1.0</td>\n",
       "      <td>6.0</td>\n",
       "      <td>NaN</td>\n",
       "      <td>NaN</td>\n",
       "      <td>NaN</td>\n",
       "      <td>NaN</td>\n",
       "      <td>0.0</td>\n",
       "      <td>1.0</td>\n",
       "      <td>...</td>\n",
       "      <td>11.0</td>\n",
       "      <td>6.0</td>\n",
       "      <td>9.0</td>\n",
       "      <td>2.0</td>\n",
       "      <td>3</td>\n",
       "      <td>COSMETIC_AND_FOOD</td>\n",
       "      <td>MULTI_BUYER</td>\n",
       "      <td>0</td>\n",
       "      <td>2</td>\n",
       "      <td>4</td>\n",
       "    </tr>\n",
       "    <tr>\n",
       "      <th>3</th>\n",
       "      <td>143873</td>\n",
       "      <td>1</td>\n",
       "      <td>1.0</td>\n",
       "      <td>8.0</td>\n",
       "      <td>NaN</td>\n",
       "      <td>NaN</td>\n",
       "      <td>NaN</td>\n",
       "      <td>NaN</td>\n",
       "      <td>8.0</td>\n",
       "      <td>0.0</td>\n",
       "      <td>...</td>\n",
       "      <td>2.0</td>\n",
       "      <td>NaN</td>\n",
       "      <td>9.0</td>\n",
       "      <td>7.0</td>\n",
       "      <td>1</td>\n",
       "      <td>COSMETIC</td>\n",
       "      <td>MULTI_BUYER</td>\n",
       "      <td>0</td>\n",
       "      <td>1</td>\n",
       "      <td>4</td>\n",
       "    </tr>\n",
       "    <tr>\n",
       "      <th>4</th>\n",
       "      <td>143874</td>\n",
       "      <td>-1</td>\n",
       "      <td>1.0</td>\n",
       "      <td>20.0</td>\n",
       "      <td>NaN</td>\n",
       "      <td>NaN</td>\n",
       "      <td>NaN</td>\n",
       "      <td>NaN</td>\n",
       "      <td>14.0</td>\n",
       "      <td>7.0</td>\n",
       "      <td>...</td>\n",
       "      <td>4.0</td>\n",
       "      <td>2.0</td>\n",
       "      <td>9.0</td>\n",
       "      <td>3.0</td>\n",
       "      <td>1</td>\n",
       "      <td>FOOD</td>\n",
       "      <td>MULTI_BUYER</td>\n",
       "      <td>0</td>\n",
       "      <td>1</td>\n",
       "      <td>3</td>\n",
       "    </tr>\n",
       "  </tbody>\n",
       "</table>\n",
       "<p>5 rows × 369 columns</p>\n",
       "</div>"
      ],
      "text/plain": [
       "      LNR  AGER_TYP  AKT_DAT_KL  ALTER_HH  ALTER_KIND1  ALTER_KIND2  \\\n",
       "0    9626         2         1.0      10.0          NaN          NaN   \n",
       "1    9628        -1         9.0      11.0          NaN          NaN   \n",
       "2  143872        -1         1.0       6.0          NaN          NaN   \n",
       "3  143873         1         1.0       8.0          NaN          NaN   \n",
       "4  143874        -1         1.0      20.0          NaN          NaN   \n",
       "\n",
       "   ALTER_KIND3  ALTER_KIND4  ALTERSKATEGORIE_FEIN  ANZ_HAUSHALTE_AKTIV  \\\n",
       "0          NaN          NaN                  10.0                  1.0   \n",
       "1          NaN          NaN                   NaN                  NaN   \n",
       "2          NaN          NaN                   0.0                  1.0   \n",
       "3          NaN          NaN                   8.0                  0.0   \n",
       "4          NaN          NaN                  14.0                  7.0   \n",
       "\n",
       "          ...           VK_ZG11  W_KEIT_KIND_HH  WOHNDAUER_2008  WOHNLAGE  \\\n",
       "0         ...               2.0             6.0             9.0       7.0   \n",
       "1         ...               3.0             0.0             9.0       NaN   \n",
       "2         ...              11.0             6.0             9.0       2.0   \n",
       "3         ...               2.0             NaN             9.0       7.0   \n",
       "4         ...               4.0             2.0             9.0       3.0   \n",
       "\n",
       "   ZABEOTYP      PRODUCT_GROUP  CUSTOMER_GROUP ONLINE_PURCHASE ANREDE_KZ  \\\n",
       "0         3  COSMETIC_AND_FOOD     MULTI_BUYER               0         1   \n",
       "1         3               FOOD    SINGLE_BUYER               0         1   \n",
       "2         3  COSMETIC_AND_FOOD     MULTI_BUYER               0         2   \n",
       "3         1           COSMETIC     MULTI_BUYER               0         1   \n",
       "4         1               FOOD     MULTI_BUYER               0         1   \n",
       "\n",
       "  ALTERSKATEGORIE_GROB  \n",
       "0                    4  \n",
       "1                    4  \n",
       "2                    4  \n",
       "3                    4  \n",
       "4                    3  \n",
       "\n",
       "[5 rows x 369 columns]"
      ]
     },
     "execution_count": 4,
     "metadata": {},
     "output_type": "execute_result"
    }
   ],
   "source": [
    "azdias.head()"
   ]
  },
  {
   "cell_type": "code",
   "execution_count": 5,
   "metadata": {},
   "outputs": [
    {
     "data": {
      "text/plain": [
       "(191652, 369)"
      ]
     },
     "execution_count": 5,
     "metadata": {},
     "output_type": "execute_result"
    }
   ],
   "source": [
    "azdias.shape"
   ]
  },
  {
   "cell_type": "code",
   "execution_count": 6,
   "metadata": {
    "scrolled": true
   },
   "outputs": [
    {
     "name": "stdout",
     "output_type": "stream",
     "text": [
      "<class 'pandas.core.frame.DataFrame'>\n",
      "RangeIndex: 191652 entries, 0 to 191651\n",
      "Columns: 369 entries, LNR to ALTERSKATEGORIE_GROB\n",
      "dtypes: float64(267), int64(94), object(8)\n",
      "memory usage: 539.5+ MB\n"
     ]
    }
   ],
   "source": [
    "# Check datasize memory size\n",
    "azdias.info()"
   ]
  },
  {
   "cell_type": "code",
   "execution_count": 7,
   "metadata": {},
   "outputs": [
    {
     "data": {
      "text/plain": [
       "float64    267\n",
       "int64       94\n",
       "object       8\n",
       "dtype: int64"
      ]
     },
     "execution_count": 7,
     "metadata": {},
     "output_type": "execute_result"
    }
   ],
   "source": [
    "# Check at the type of all columns\n",
    "azdias.dtypes.value_counts()"
   ]
  },
  {
   "cell_type": "code",
   "execution_count": 8,
   "metadata": {},
   "outputs": [
    {
     "data": {
      "text/html": [
       "<div>\n",
       "<style scoped>\n",
       "    .dataframe tbody tr th:only-of-type {\n",
       "        vertical-align: middle;\n",
       "    }\n",
       "\n",
       "    .dataframe tbody tr th {\n",
       "        vertical-align: top;\n",
       "    }\n",
       "\n",
       "    .dataframe thead th {\n",
       "        text-align: right;\n",
       "    }\n",
       "</style>\n",
       "<table border=\"1\" class=\"dataframe\">\n",
       "  <thead>\n",
       "    <tr style=\"text-align: right;\">\n",
       "      <th></th>\n",
       "      <th>CAMEO_DEU_2015</th>\n",
       "      <th>CAMEO_DEUG_2015</th>\n",
       "      <th>CAMEO_INTL_2015</th>\n",
       "      <th>D19_LETZTER_KAUF_BRANCHE</th>\n",
       "      <th>EINGEFUEGT_AM</th>\n",
       "      <th>OST_WEST_KZ</th>\n",
       "      <th>PRODUCT_GROUP</th>\n",
       "      <th>CUSTOMER_GROUP</th>\n",
       "    </tr>\n",
       "  </thead>\n",
       "  <tbody>\n",
       "    <tr>\n",
       "      <th>0</th>\n",
       "      <td>1A</td>\n",
       "      <td>1</td>\n",
       "      <td>13</td>\n",
       "      <td>D19_UNBEKANNT</td>\n",
       "      <td>1992-02-12 00:00:00</td>\n",
       "      <td>W</td>\n",
       "      <td>COSMETIC_AND_FOOD</td>\n",
       "      <td>MULTI_BUYER</td>\n",
       "    </tr>\n",
       "    <tr>\n",
       "      <th>1</th>\n",
       "      <td>NaN</td>\n",
       "      <td>NaN</td>\n",
       "      <td>NaN</td>\n",
       "      <td>D19_BANKEN_GROSS</td>\n",
       "      <td>NaN</td>\n",
       "      <td>NaN</td>\n",
       "      <td>FOOD</td>\n",
       "      <td>SINGLE_BUYER</td>\n",
       "    </tr>\n",
       "    <tr>\n",
       "      <th>2</th>\n",
       "      <td>5D</td>\n",
       "      <td>5</td>\n",
       "      <td>34</td>\n",
       "      <td>D19_UNBEKANNT</td>\n",
       "      <td>1992-02-10 00:00:00</td>\n",
       "      <td>W</td>\n",
       "      <td>COSMETIC_AND_FOOD</td>\n",
       "      <td>MULTI_BUYER</td>\n",
       "    </tr>\n",
       "    <tr>\n",
       "      <th>3</th>\n",
       "      <td>4C</td>\n",
       "      <td>4</td>\n",
       "      <td>24</td>\n",
       "      <td>D19_NAHRUNGSERGAENZUNG</td>\n",
       "      <td>1992-02-10 00:00:00</td>\n",
       "      <td>W</td>\n",
       "      <td>COSMETIC</td>\n",
       "      <td>MULTI_BUYER</td>\n",
       "    </tr>\n",
       "    <tr>\n",
       "      <th>4</th>\n",
       "      <td>7B</td>\n",
       "      <td>7</td>\n",
       "      <td>41</td>\n",
       "      <td>D19_SCHUHE</td>\n",
       "      <td>1992-02-12 00:00:00</td>\n",
       "      <td>W</td>\n",
       "      <td>FOOD</td>\n",
       "      <td>MULTI_BUYER</td>\n",
       "    </tr>\n",
       "  </tbody>\n",
       "</table>\n",
       "</div>"
      ],
      "text/plain": [
       "  CAMEO_DEU_2015 CAMEO_DEUG_2015 CAMEO_INTL_2015 D19_LETZTER_KAUF_BRANCHE  \\\n",
       "0             1A               1              13            D19_UNBEKANNT   \n",
       "1            NaN             NaN             NaN         D19_BANKEN_GROSS   \n",
       "2             5D               5              34            D19_UNBEKANNT   \n",
       "3             4C               4              24   D19_NAHRUNGSERGAENZUNG   \n",
       "4             7B               7              41               D19_SCHUHE   \n",
       "\n",
       "         EINGEFUEGT_AM OST_WEST_KZ      PRODUCT_GROUP CUSTOMER_GROUP  \n",
       "0  1992-02-12 00:00:00           W  COSMETIC_AND_FOOD    MULTI_BUYER  \n",
       "1                  NaN         NaN               FOOD   SINGLE_BUYER  \n",
       "2  1992-02-10 00:00:00           W  COSMETIC_AND_FOOD    MULTI_BUYER  \n",
       "3  1992-02-10 00:00:00           W           COSMETIC    MULTI_BUYER  \n",
       "4  1992-02-12 00:00:00           W               FOOD    MULTI_BUYER  "
      ]
     },
     "execution_count": 8,
     "metadata": {},
     "output_type": "execute_result"
    }
   ],
   "source": [
    "# Luckily most of the columns are float64 and int64, which are okay format for ML modeling.\n",
    "# We'll need to transform the 6 object columns if we want to use it though.\n",
    "azdias.select_dtypes('object').head()"
   ]
  },
  {
   "cell_type": "markdown",
   "metadata": {},
   "source": [
    "## Part 1: Customer Segmentation Report\n",
    "\n",
    "The main bulk of your analysis will come in this part of the project. Here, you should use unsupervised learning techniques to describe the relationship between the demographics of the company's existing customers and the general population of Germany. By the end of this part, you should be able to describe parts of the general population that are more likely to be part of the mail-order company's main customer base, and which parts of the general population are less so."
   ]
  },
  {
   "cell_type": "markdown",
   "metadata": {},
   "source": [
    "### Step 1.1: Assess Missing Data\n",
    "With help of the DIAS Attributes, we will look for the meaning of attributes, and see what indicates an unknown value. We'll treat unknown value equivalently to missing value. In fact, we'll replace every value that is found to be unknown (based on its value) with a NaN.\n",
    "\n",
    "Added a posteriori: some fields contain 'X' or 'XX' for unknown values, that also have to be replaced with nan."
   ]
  },
  {
   "cell_type": "code",
   "execution_count": 2,
   "metadata": {
    "scrolled": true
   },
   "outputs": [
    {
     "name": "stdout",
     "output_type": "stream",
     "text": [
      "(2258, 5)\n"
     ]
    },
    {
     "data": {
      "text/html": [
       "<div>\n",
       "<style scoped>\n",
       "    .dataframe tbody tr th:only-of-type {\n",
       "        vertical-align: middle;\n",
       "    }\n",
       "\n",
       "    .dataframe tbody tr th {\n",
       "        vertical-align: top;\n",
       "    }\n",
       "\n",
       "    .dataframe thead th {\n",
       "        text-align: right;\n",
       "    }\n",
       "</style>\n",
       "<table border=\"1\" class=\"dataframe\">\n",
       "  <thead>\n",
       "    <tr style=\"text-align: right;\">\n",
       "      <th></th>\n",
       "      <th>Unnamed: 0</th>\n",
       "      <th>Attribute</th>\n",
       "      <th>Description</th>\n",
       "      <th>Value</th>\n",
       "      <th>Meaning</th>\n",
       "    </tr>\n",
       "  </thead>\n",
       "  <tbody>\n",
       "    <tr>\n",
       "      <th>0</th>\n",
       "      <td>NaN</td>\n",
       "      <td>AGER_TYP</td>\n",
       "      <td>best-ager typology</td>\n",
       "      <td>-1</td>\n",
       "      <td>unknown</td>\n",
       "    </tr>\n",
       "    <tr>\n",
       "      <th>1</th>\n",
       "      <td>NaN</td>\n",
       "      <td>NaN</td>\n",
       "      <td>NaN</td>\n",
       "      <td>0</td>\n",
       "      <td>no classification possible</td>\n",
       "    </tr>\n",
       "    <tr>\n",
       "      <th>2</th>\n",
       "      <td>NaN</td>\n",
       "      <td>NaN</td>\n",
       "      <td>NaN</td>\n",
       "      <td>1</td>\n",
       "      <td>passive elderly</td>\n",
       "    </tr>\n",
       "    <tr>\n",
       "      <th>3</th>\n",
       "      <td>NaN</td>\n",
       "      <td>NaN</td>\n",
       "      <td>NaN</td>\n",
       "      <td>2</td>\n",
       "      <td>cultural elderly</td>\n",
       "    </tr>\n",
       "    <tr>\n",
       "      <th>4</th>\n",
       "      <td>NaN</td>\n",
       "      <td>NaN</td>\n",
       "      <td>NaN</td>\n",
       "      <td>3</td>\n",
       "      <td>experience-driven elderly</td>\n",
       "    </tr>\n",
       "    <tr>\n",
       "      <th>5</th>\n",
       "      <td>NaN</td>\n",
       "      <td>ALTERSKATEGORIE_GROB</td>\n",
       "      <td>age classification through prename analysis</td>\n",
       "      <td>-1, 0</td>\n",
       "      <td>unknown</td>\n",
       "    </tr>\n",
       "  </tbody>\n",
       "</table>\n",
       "</div>"
      ],
      "text/plain": [
       "   Unnamed: 0             Attribute  \\\n",
       "0         NaN              AGER_TYP   \n",
       "1         NaN                   NaN   \n",
       "2         NaN                   NaN   \n",
       "3         NaN                   NaN   \n",
       "4         NaN                   NaN   \n",
       "5         NaN  ALTERSKATEGORIE_GROB   \n",
       "\n",
       "                                    Description  Value  \\\n",
       "0                            best-ager typology     -1   \n",
       "1                                           NaN      0   \n",
       "2                                           NaN      1   \n",
       "3                                           NaN      2   \n",
       "4                                           NaN      3   \n",
       "5  age classification through prename analysis   -1, 0   \n",
       "\n",
       "                      Meaning  \n",
       "0                     unknown  \n",
       "1  no classification possible  \n",
       "2             passive elderly  \n",
       "3            cultural elderly  \n",
       "4   experience-driven elderly  \n",
       "5                     unknown  "
      ]
     },
     "execution_count": 2,
     "metadata": {},
     "output_type": "execute_result"
    }
   ],
   "source": [
    "# Attributes from term 2\n",
    "attributes = pd.read_excel('DIAS Attributes - Values 2017.xlsx')\n",
    "print(attributes.shape)\n",
    "attributes.head(6)"
   ]
  },
  {
   "cell_type": "code",
   "execution_count": 3,
   "metadata": {},
   "outputs": [
    {
     "data": {
      "text/html": [
       "<div>\n",
       "<style scoped>\n",
       "    .dataframe tbody tr th:only-of-type {\n",
       "        vertical-align: middle;\n",
       "    }\n",
       "\n",
       "    .dataframe tbody tr th {\n",
       "        vertical-align: top;\n",
       "    }\n",
       "\n",
       "    .dataframe thead th {\n",
       "        text-align: right;\n",
       "    }\n",
       "</style>\n",
       "<table border=\"1\" class=\"dataframe\">\n",
       "  <thead>\n",
       "    <tr style=\"text-align: right;\">\n",
       "      <th></th>\n",
       "      <th>Attribute</th>\n",
       "      <th>Description</th>\n",
       "      <th>Value</th>\n",
       "      <th>Meaning</th>\n",
       "    </tr>\n",
       "  </thead>\n",
       "  <tbody>\n",
       "    <tr>\n",
       "      <th>0</th>\n",
       "      <td>AGER_TYP</td>\n",
       "      <td>best-ager typology</td>\n",
       "      <td>-1</td>\n",
       "      <td>unknown</td>\n",
       "    </tr>\n",
       "    <tr>\n",
       "      <th>1</th>\n",
       "      <td>AGER_TYP</td>\n",
       "      <td>NaN</td>\n",
       "      <td>0</td>\n",
       "      <td>no classification possible</td>\n",
       "    </tr>\n",
       "    <tr>\n",
       "      <th>2</th>\n",
       "      <td>AGER_TYP</td>\n",
       "      <td>NaN</td>\n",
       "      <td>1</td>\n",
       "      <td>passive elderly</td>\n",
       "    </tr>\n",
       "    <tr>\n",
       "      <th>3</th>\n",
       "      <td>AGER_TYP</td>\n",
       "      <td>NaN</td>\n",
       "      <td>2</td>\n",
       "      <td>cultural elderly</td>\n",
       "    </tr>\n",
       "    <tr>\n",
       "      <th>4</th>\n",
       "      <td>AGER_TYP</td>\n",
       "      <td>NaN</td>\n",
       "      <td>3</td>\n",
       "      <td>experience-driven elderly</td>\n",
       "    </tr>\n",
       "    <tr>\n",
       "      <th>5</th>\n",
       "      <td>ALTERSKATEGORIE_GROB</td>\n",
       "      <td>age classification through prename analysis</td>\n",
       "      <td>-1, 0</td>\n",
       "      <td>unknown</td>\n",
       "    </tr>\n",
       "  </tbody>\n",
       "</table>\n",
       "</div>"
      ],
      "text/plain": [
       "              Attribute                                   Description  Value  \\\n",
       "0              AGER_TYP                            best-ager typology     -1   \n",
       "1              AGER_TYP                                           NaN      0   \n",
       "2              AGER_TYP                                           NaN      1   \n",
       "3              AGER_TYP                                           NaN      2   \n",
       "4              AGER_TYP                                           NaN      3   \n",
       "5  ALTERSKATEGORIE_GROB  age classification through prename analysis   -1, 0   \n",
       "\n",
       "                      Meaning  \n",
       "0                     unknown  \n",
       "1  no classification possible  \n",
       "2             passive elderly  \n",
       "3            cultural elderly  \n",
       "4   experience-driven elderly  \n",
       "5                     unknown  "
      ]
     },
     "execution_count": 3,
     "metadata": {},
     "output_type": "execute_result"
    }
   ],
   "source": [
    "# Remove useless column, and apply fillforward on Attribute column\n",
    "attributes.drop(columns=['Unnamed: 0'], inplace=True)\n",
    "attributes['Attribute'] = attributes['Attribute'].ffill()\n",
    "attributes.head(6)"
   ]
  },
  {
   "cell_type": "code",
   "execution_count": 4,
   "metadata": {},
   "outputs": [
    {
     "data": {
      "text/plain": [
       "unknown                                                           232\n",
       "no transaction known                                               34\n",
       "no transactions known                                              22\n",
       "residental building buildings without actually known household      1\n",
       "mixed building without actually known company                       1\n",
       "mixed building without actually known household                     1\n",
       "unknown / no main age detectable                                    1\n",
       "mixed building without actually known household or comapny          1\n",
       "company building w/o known company                                  1\n",
       "Name: Meaning, dtype: int64"
      ]
     },
     "execution_count": 4,
     "metadata": {},
     "output_type": "execute_result"
    }
   ],
   "source": [
    "# Below a list of occurence of every \"Meaning\" which seems to indicates unknown data (unknown, or without known, etc).\n",
    "attributes['Meaning'].where(attributes['Meaning'].str.contains('known')).value_counts()"
   ]
  },
  {
   "cell_type": "code",
   "execution_count": 5,
   "metadata": {},
   "outputs": [
    {
     "data": {
      "text/plain": [
       "['unknown', 'unknown / no main age detectable']"
      ]
     },
     "execution_count": 5,
     "metadata": {},
     "output_type": "execute_result"
    }
   ],
   "source": [
    "# Let's save meanings that indicate unknown values \n",
    "# The transaction ones, as well as building ones seem to contain some info so we will keep it.)\n",
    "unknown_names = attributes['Meaning'].where(attributes['Meaning'].str.contains('unknown')).value_counts().index\n",
    "list(unknown_names)"
   ]
  },
  {
   "cell_type": "code",
   "execution_count": 6,
   "metadata": {
    "scrolled": true
   },
   "outputs": [
    {
     "data": {
      "text/html": [
       "<div>\n",
       "<style scoped>\n",
       "    .dataframe tbody tr th:only-of-type {\n",
       "        vertical-align: middle;\n",
       "    }\n",
       "\n",
       "    .dataframe tbody tr th {\n",
       "        vertical-align: top;\n",
       "    }\n",
       "\n",
       "    .dataframe thead th {\n",
       "        text-align: right;\n",
       "    }\n",
       "</style>\n",
       "<table border=\"1\" class=\"dataframe\">\n",
       "  <thead>\n",
       "    <tr style=\"text-align: right;\">\n",
       "      <th></th>\n",
       "      <th>Attribute</th>\n",
       "      <th>Description</th>\n",
       "      <th>Value</th>\n",
       "      <th>Meaning</th>\n",
       "    </tr>\n",
       "  </thead>\n",
       "  <tbody>\n",
       "    <tr>\n",
       "      <th>0</th>\n",
       "      <td>AGER_TYP</td>\n",
       "      <td>best-ager typology</td>\n",
       "      <td>-1</td>\n",
       "      <td>unknown</td>\n",
       "    </tr>\n",
       "    <tr>\n",
       "      <th>5</th>\n",
       "      <td>ALTERSKATEGORIE_GROB</td>\n",
       "      <td>age classification through prename analysis</td>\n",
       "      <td>-1, 0</td>\n",
       "      <td>unknown</td>\n",
       "    </tr>\n",
       "    <tr>\n",
       "      <th>11</th>\n",
       "      <td>ALTER_HH</td>\n",
       "      <td>main age within the household</td>\n",
       "      <td>0</td>\n",
       "      <td>unknown / no main age detectable</td>\n",
       "    </tr>\n",
       "    <tr>\n",
       "      <th>33</th>\n",
       "      <td>ANREDE_KZ</td>\n",
       "      <td>gender</td>\n",
       "      <td>-1, 0</td>\n",
       "      <td>unknown</td>\n",
       "    </tr>\n",
       "    <tr>\n",
       "      <th>40</th>\n",
       "      <td>BALLRAUM</td>\n",
       "      <td>distance to next urban centre</td>\n",
       "      <td>-1</td>\n",
       "      <td>unknown</td>\n",
       "    </tr>\n",
       "  </tbody>\n",
       "</table>\n",
       "</div>"
      ],
      "text/plain": [
       "               Attribute                                   Description  Value  \\\n",
       "0               AGER_TYP                            best-ager typology     -1   \n",
       "5   ALTERSKATEGORIE_GROB  age classification through prename analysis   -1, 0   \n",
       "11              ALTER_HH                 main age within the household      0   \n",
       "33             ANREDE_KZ                                        gender  -1, 0   \n",
       "40              BALLRAUM                distance to next urban centre      -1   \n",
       "\n",
       "                             Meaning  \n",
       "0                            unknown  \n",
       "5                            unknown  \n",
       "11  unknown / no main age detectable  \n",
       "33                           unknown  \n",
       "40                           unknown  "
      ]
     },
     "execution_count": 6,
     "metadata": {},
     "output_type": "execute_result"
    }
   ],
   "source": [
    "# We now have the list of all unknown values per Attribute.\n",
    "attributes_missing = attributes[attributes['Meaning'].isin(unknown_names)]\n",
    "attributes_missing.head()"
   ]
  },
  {
   "cell_type": "code",
   "execution_count": 14,
   "metadata": {},
   "outputs": [
    {
     "name": "stdout",
     "output_type": "stream",
     "text": [
      "Treating AGER_TYP\n",
      "Treating ALTERSKATEGORIE_GROB\n",
      "Treating ALTER_HH\n",
      "Treating ANREDE_KZ\n",
      "Treating BALLRAUM\n",
      "BIP_FLAG is surpisingly not found in azdias.\n",
      "Treating CAMEO_DEUG_2015\n",
      "CAMEO_DEUINTL_2015 is surpisingly not found in azdias.\n",
      "Treating CJT_GESAMTTYP\n",
      "D19_KK_KUNDENTYP is surpisingly not found in azdias.\n",
      "Treating EWDICHTE\n",
      "Treating FINANZTYP\n",
      "Treating FINANZ_ANLEGER\n",
      "Treating FINANZ_HAUSBAUER\n",
      "Treating FINANZ_MINIMALIST\n",
      "Treating FINANZ_SPARER\n",
      "Treating FINANZ_UNAUFFAELLIGER\n",
      "Treating FINANZ_VORSORGER\n",
      "Treating GEBAEUDETYP\n",
      "GEOSCORE_KLS7 is surpisingly not found in azdias.\n",
      "HAUSHALTSSTRUKTUR is surpisingly not found in azdias.\n",
      "Treating HEALTH_TYP\n",
      "Treating HH_EINKOMMEN_SCORE\n",
      "Treating INNENSTADT\n",
      "Treating KBA05_ALTER1\n",
      "Treating KBA05_ALTER2\n",
      "Treating KBA05_ALTER3\n",
      "Treating KBA05_ALTER4\n",
      "Treating KBA05_ANHANG\n",
      "Treating KBA05_ANTG1\n",
      "Treating KBA05_ANTG2\n",
      "Treating KBA05_ANTG3\n",
      "Treating KBA05_ANTG4\n",
      "Treating KBA05_AUTOQUOT\n",
      "Treating KBA05_BAUMAX\n",
      "Treating KBA05_CCM1\n",
      "Treating KBA05_CCM2\n",
      "Treating KBA05_CCM3\n",
      "Treating KBA05_CCM4\n",
      "Treating KBA05_DIESEL\n",
      "Treating KBA05_FRAU\n",
      "Treating KBA05_GBZ\n",
      "Treating KBA05_HERST1\n",
      "Treating KBA05_HERST2\n",
      "Treating KBA05_HERST3\n",
      "Treating KBA05_HERST4\n",
      "Treating KBA05_HERST5\n",
      "Treating KBA05_HERSTTEMP\n",
      "Treating KBA05_KRSAQUOT\n",
      "Treating KBA05_KRSHERST1\n",
      "Treating KBA05_KRSHERST2\n",
      "Treating KBA05_KRSHERST3\n",
      "Treating KBA05_KRSKLEIN\n",
      "Treating KBA05_KRSOBER\n",
      "Treating KBA05_KRSVAN\n",
      "Treating KBA05_KRSZUL\n",
      "Treating KBA05_KW1\n",
      "Treating KBA05_KW2\n",
      "Treating KBA05_KW3\n",
      "Treating KBA05_MAXAH\n",
      "Treating KBA05_MAXBJ\n",
      "Treating KBA05_MAXHERST\n",
      "Treating KBA05_MAXSEG\n",
      "Treating KBA05_MAXVORB\n",
      "Treating KBA05_MOD1\n",
      "Treating KBA05_MOD2\n",
      "Treating KBA05_MOD3\n",
      "Treating KBA05_MOD4\n",
      "Treating KBA05_MOD8\n",
      "Treating KBA05_MODTEMP\n",
      "Treating KBA05_MOTOR\n",
      "Treating KBA05_MOTRAD\n",
      "Treating KBA05_SEG1\n",
      "Treating KBA05_SEG10\n",
      "Treating KBA05_SEG2\n",
      "Treating KBA05_SEG3\n",
      "Treating KBA05_SEG4\n",
      "Treating KBA05_SEG5\n",
      "Treating KBA05_SEG6\n",
      "Treating KBA05_SEG7\n",
      "Treating KBA05_SEG8\n",
      "Treating KBA05_SEG9\n",
      "Treating KBA05_VORB0\n",
      "Treating KBA05_VORB1\n",
      "Treating KBA05_VORB2\n",
      "Treating KBA05_ZUL1\n",
      "Treating KBA05_ZUL2\n",
      "Treating KBA05_ZUL3\n",
      "Treating KBA05_ZUL4\n",
      "Treating KBA13_ALTERHALTER_30\n",
      "Treating KBA13_ALTERHALTER_45\n",
      "Treating KBA13_ALTERHALTER_60\n",
      "Treating KBA13_ALTERHALTER_61\n",
      "Treating KBA13_AUDI\n",
      "Treating KBA13_AUTOQUOTE\n",
      "Treating KBA13_BJ_1999\n",
      "Treating KBA13_BJ_2000\n",
      "Treating KBA13_BJ_2004\n",
      "Treating KBA13_BJ_2006\n",
      "Treating KBA13_BJ_2008\n",
      "Treating KBA13_BJ_2009\n",
      "Treating KBA13_BMW\n",
      "Treating KBA13_CCM_1000\n",
      "Treating KBA13_CCM_1200\n",
      "Treating KBA13_CCM_1400\n",
      "Treating KBA13_CCM_0_1400\n",
      "Treating KBA13_CCM_1500\n",
      "KBA13_CCM_1400_2500 is surpisingly not found in azdias.\n",
      "Treating KBA13_CCM_1600\n",
      "Treating KBA13_CCM_1800\n",
      "Treating KBA13_CCM_2000\n",
      "Treating KBA13_CCM_2500\n",
      "Treating KBA13_CCM_2501\n",
      "Treating KBA13_CCM_3000\n",
      "Treating KBA13_CCM_3001\n",
      "Treating KBA13_FAB_ASIEN\n",
      "Treating KBA13_FAB_SONSTIGE\n",
      "Treating KBA13_FIAT\n",
      "Treating KBA13_FORD\n",
      "Treating KBA13_HALTER_20\n",
      "Treating KBA13_HALTER_25\n",
      "Treating KBA13_HALTER_30\n",
      "Treating KBA13_HALTER_35\n",
      "Treating KBA13_HALTER_40\n",
      "Treating KBA13_HALTER_45\n",
      "Treating KBA13_HALTER_50\n",
      "Treating KBA13_HALTER_55\n",
      "Treating KBA13_HALTER_60\n",
      "Treating KBA13_HALTER_65\n",
      "Treating KBA13_HALTER_66\n",
      "Treating KBA13_HERST_ASIEN\n",
      "Treating KBA13_HERST_AUDI_VW\n",
      "Treating KBA13_HERST_BMW_BENZ\n",
      "Treating KBA13_HERST_EUROPA\n",
      "Treating KBA13_HERST_FORD_OPEL\n",
      "Treating KBA13_HERST_SONST\n",
      "Treating KBA13_KMH_110\n",
      "Treating KBA13_KMH_140\n",
      "Treating KBA13_KMH_180\n",
      "Treating KBA13_KMH_0_140\n",
      "Treating KBA13_KMH_140_210\n",
      "Treating KBA13_KMH_211\n",
      "Treating KBA13_KMH_250\n",
      "Treating KBA13_KMH_251\n",
      "Treating KBA13_KRSAQUOT\n",
      "Treating KBA13_KRSHERST_AUDI_VW\n",
      "Treating KBA13_KRSHERST_BMW_BENZ\n",
      "Treating KBA13_KRSHERST_FORD_OPEL\n",
      "Treating KBA13_KRSSEG_KLEIN\n",
      "Treating KBA13_KRSSEG_OBER\n",
      "Treating KBA13_KRSSEG_VAN\n",
      "Treating KBA13_KRSZUL_NEU\n",
      "Treating KBA13_KW_30\n",
      "Treating KBA13_KW_40\n",
      "Treating KBA13_KW_50\n",
      "Treating KBA13_KW_60\n",
      "Treating KBA13_KW_0_60\n",
      "Treating KBA13_KW_70\n",
      "Treating KBA13_KW_61_120\n",
      "Treating KBA13_KW_80\n",
      "Treating KBA13_KW_90\n",
      "Treating KBA13_KW_110\n",
      "Treating KBA13_KW_120\n",
      "Treating KBA13_KW_121\n",
      "Treating KBA13_MAZDA\n",
      "Treating KBA13_MERCEDES\n",
      "Treating KBA13_MOTOR\n",
      "Treating KBA13_NISSAN\n",
      "Treating KBA13_OPEL\n",
      "Treating KBA13_PEUGEOT\n",
      "Treating KBA13_RENAULT\n",
      "Treating KBA13_SEG_GELAENDEWAGEN\n",
      "Treating KBA13_SEG_GROSSRAUMVANS\n",
      "Treating KBA13_SEG_KLEINST\n",
      "Treating KBA13_SEG_KLEINWAGEN\n",
      "Treating KBA13_SEG_KOMPAKTKLASSE\n",
      "Treating KBA13_SEG_MINIVANS\n",
      "Treating KBA13_SEG_MINIWAGEN\n",
      "Treating KBA13_SEG_MITTELKLASSE\n",
      "Treating KBA13_SEG_OBEREMITTELKLASSE\n",
      "Treating KBA13_SEG_OBERKLASSE\n",
      "Treating KBA13_SEG_SONSTIGE\n",
      "Treating KBA13_SEG_SPORTWAGEN\n",
      "Treating KBA13_SEG_UTILITIES\n",
      "Treating KBA13_SEG_VAN\n",
      "Treating KBA13_SEG_WOHNMOBILE\n",
      "Treating KBA13_SITZE_4\n",
      "Treating KBA13_SITZE_5\n",
      "Treating KBA13_SITZE_6\n",
      "Treating KBA13_TOYOTA\n",
      "Treating KBA13_VORB_0\n",
      "Treating KBA13_VORB_1\n",
      "Treating KBA13_VORB_1_2\n",
      "Treating KBA13_VORB_2\n",
      "Treating KBA13_VORB_3\n",
      "Treating KBA13_VW\n",
      "Treating KKK\n",
      "Treating NATIONALITAET_KZ\n",
      "Treating ORTSGR_KLS9\n",
      "Treating OST_WEST_KZ\n",
      "Treating PLZ8_ANTG1\n",
      "Treating PLZ8_ANTG2\n",
      "Treating PLZ8_ANTG3\n",
      "Treating PLZ8_ANTG4\n",
      "Treating PLZ8_GBZ\n",
      "Treating PLZ8_HHZ\n",
      "Treating PRAEGENDE_JUGENDJAHRE\n",
      "Treating REGIOTYP\n",
      "Treating RELAT_AB\n",
      "Treating RETOURTYP_BK_S\n",
      "Treating SEMIO_DOM\n",
      "Treating SEMIO_ERL\n",
      "Treating SEMIO_FAM\n",
      "Treating SEMIO_KAEM\n",
      "Treating SEMIO_KRIT\n",
      "Treating SEMIO_KULT\n",
      "Treating SEMIO_LUST\n",
      "Treating SEMIO_MAT\n",
      "Treating SEMIO_PFLICHT\n",
      "Treating SEMIO_RAT\n",
      "Treating SEMIO_REL\n",
      "Treating SEMIO_SOZ\n",
      "Treating SEMIO_TRADV\n",
      "Treating SEMIO_VERT\n",
      "Treating SHOPPER_TYP\n",
      "SOHO_FLAG is surpisingly not found in azdias.\n",
      "Treating TITEL_KZ\n",
      "Treating VERS_TYP\n",
      "Treating WOHNDAUER_2008\n",
      "Treating WOHNLAGE\n",
      "WACHSTUMSGEBIET_NB is surpisingly not found in azdias.\n",
      "Treating W_KEIT_KIND_HH\n",
      "Treating ZABEOTYP\n"
     ]
    }
   ],
   "source": [
    "# let's replace all unknown values with NaN\n",
    "for row in attributes_missing.iterrows():\n",
    "    missing_values = row[1]['Value']\n",
    "    attribute = row[1]['Attribute']\n",
    "    # Some attributes of DIAS Attributes do not exist in the AZDIAS dataset ...\n",
    "    if attribute not in azdias.columns:\n",
    "        print(attribute+' is surpisingly not found in azdias.')\n",
    "        continue        \n",
    "    \n",
    "    print('Treating '+attribute)\n",
    "    \n",
    "    # different treatement if missing_values is a string or a int\n",
    "    if isinstance(missing_values,int): \n",
    "        azdias[attribute].replace(missing_values, np.nan, inplace=True)\n",
    "    elif isinstance(missing_values,str):\n",
    "        eval(\"azdias[attribute].replace([\"+missing_values+\"], np.nan, inplace=True)\")"
   ]
  },
  {
   "cell_type": "code",
   "execution_count": 15,
   "metadata": {},
   "outputs": [],
   "source": [
    "# CAMEO columns have special char for missing values\n",
    "azdias['CAMEO_DEUG_2015'].replace('X',np.nan, inplace=True)\n",
    "azdias['CAMEO_DEU_2015'].replace('XX',np.nan, inplace=True)\n",
    "azdias['CAMEO_INTL_2015'].replace('XX',np.nan, inplace=True)"
   ]
  },
  {
   "cell_type": "markdown",
   "metadata": {},
   "source": [
    "### Step 1.2: Select and Re-Encode Features\n",
    "Six columns are of type objects and need to be handled"
   ]
  },
  {
   "cell_type": "code",
   "execution_count": 16,
   "metadata": {
    "scrolled": true
   },
   "outputs": [
    {
     "name": "stdout",
     "output_type": "stream",
     "text": [
      "['W' nan 'O']\n"
     ]
    },
    {
     "data": {
      "text/plain": [
       "array([  1.,  nan,   0.])"
      ]
     },
     "execution_count": 16,
     "metadata": {},
     "output_type": "execute_result"
    }
   ],
   "source": [
    "# OST_WEST_KZ : categorical binary data. Transform into dummary variable\n",
    "print(azdias['OST_WEST_KZ'].unique())\n",
    "azdias['OST_WEST_KZ'].replace('W',1, inplace=True)\n",
    "azdias['OST_WEST_KZ'].replace('O',0, inplace=True)\n",
    "azdias['OST_WEST_KZ'].unique()"
   ]
  },
  {
   "cell_type": "code",
   "execution_count": 17,
   "metadata": {
    "scrolled": true
   },
   "outputs": [
    {
     "name": "stdout",
     "output_type": "stream",
     "text": [
      "[1.0 nan 5.0 4.0 7.0 3.0 9.0 2.0 6.0 8.0 '6' '3' '8' '9' '2' '4' '1' '7'\n",
      " '5']\n"
     ]
    },
    {
     "data": {
      "text/plain": [
       "array([  1.,  nan,   5.,   4.,   7.,   3.,   9.,   2.,   6.,   8.])"
      ]
     },
     "execution_count": 17,
     "metadata": {},
     "output_type": "execute_result"
    }
   ],
   "source": [
    "# CAMEO_DEU_2015\n",
    "print(azdias['CAMEO_DEUG_2015'].unique())\n",
    "# Transform into numerical data type\n",
    "azdias['CAMEO_DEUG_2015'] = azdias['CAMEO_DEUG_2015'].astype(float)\n",
    "azdias['CAMEO_DEUG_2015'].unique()"
   ]
  },
  {
   "cell_type": "code",
   "execution_count": 18,
   "metadata": {},
   "outputs": [],
   "source": [
    "# CAMEO_DEUG_2015\n",
    "azdias['CAMEO_DEU_2015'].unique()\n",
    "# CAMEO_DEU_2015 has many different categories. We could one hot encode it\n",
    "# and woudl create many new features by doing so.\n",
    "# Reading the description of the data, we understand that this feature is giving\n",
    "# detailed info about the wealth. (approx 100 categories). CAMEO_DEUG_2015 was a similar \n",
    "# indicator, only with 10 instead of 100 categories. So I'll assume 10 categories\n",
    "# are enough to define wealth, and remove CAMEO_DEU_2015\n",
    "\n",
    "del azdias['CAMEO_DEU_2015']\n",
    "#azdias.drop(columns=['CAMEO_DEU_2015'], inplace = True)"
   ]
  },
  {
   "cell_type": "code",
   "execution_count": 24,
   "metadata": {
    "collapsed": true
   },
   "outputs": [
    {
     "ename": "KeyError",
     "evalue": "'CAMEO_INTL_2015'",
     "output_type": "error",
     "traceback": [
      "\u001b[0;31m---------------------------------------------------------------------------\u001b[0m",
      "\u001b[0;31mKeyError\u001b[0m                                  Traceback (most recent call last)",
      "\u001b[0;32m/opt/conda/lib/python3.6/site-packages/pandas/core/indexes/base.py\u001b[0m in \u001b[0;36mget_loc\u001b[0;34m(self, key, method, tolerance)\u001b[0m\n\u001b[1;32m   3077\u001b[0m             \u001b[0;32mtry\u001b[0m\u001b[0;34m:\u001b[0m\u001b[0;34m\u001b[0m\u001b[0m\n\u001b[0;32m-> 3078\u001b[0;31m                 \u001b[0;32mreturn\u001b[0m \u001b[0mself\u001b[0m\u001b[0;34m.\u001b[0m\u001b[0m_engine\u001b[0m\u001b[0;34m.\u001b[0m\u001b[0mget_loc\u001b[0m\u001b[0;34m(\u001b[0m\u001b[0mkey\u001b[0m\u001b[0;34m)\u001b[0m\u001b[0;34m\u001b[0m\u001b[0m\n\u001b[0m\u001b[1;32m   3079\u001b[0m             \u001b[0;32mexcept\u001b[0m \u001b[0mKeyError\u001b[0m\u001b[0;34m:\u001b[0m\u001b[0;34m\u001b[0m\u001b[0m\n",
      "\u001b[0;32mpandas/_libs/index.pyx\u001b[0m in \u001b[0;36mpandas._libs.index.IndexEngine.get_loc\u001b[0;34m()\u001b[0m\n",
      "\u001b[0;32mpandas/_libs/index.pyx\u001b[0m in \u001b[0;36mpandas._libs.index.IndexEngine.get_loc\u001b[0;34m()\u001b[0m\n",
      "\u001b[0;32mpandas/_libs/hashtable_class_helper.pxi\u001b[0m in \u001b[0;36mpandas._libs.hashtable.PyObjectHashTable.get_item\u001b[0;34m()\u001b[0m\n",
      "\u001b[0;32mpandas/_libs/hashtable_class_helper.pxi\u001b[0m in \u001b[0;36mpandas._libs.hashtable.PyObjectHashTable.get_item\u001b[0;34m()\u001b[0m\n",
      "\u001b[0;31mKeyError\u001b[0m: 'CAMEO_INTL_2015'",
      "\nDuring handling of the above exception, another exception occurred:\n",
      "\u001b[0;31mKeyError\u001b[0m                                  Traceback (most recent call last)",
      "\u001b[0;32m<ipython-input-24-1a5482b4fafd>\u001b[0m in \u001b[0;36m<module>\u001b[0;34m()\u001b[0m\n\u001b[1;32m      1\u001b[0m \u001b[0;31m# \"CAMEO_INTL_2015 and D19_LETZTER_KAUF_BRANCHE are removed for simplicity, because they have numerous unique values.\u001b[0m\u001b[0;34m\u001b[0m\u001b[0;34m\u001b[0m\u001b[0m\n\u001b[0;32m----> 2\u001b[0;31m \u001b[0;32mdel\u001b[0m \u001b[0mazdias\u001b[0m\u001b[0;34m[\u001b[0m\u001b[0;34m'CAMEO_INTL_2015'\u001b[0m\u001b[0;34m]\u001b[0m\u001b[0;34m\u001b[0m\u001b[0m\n\u001b[0m\u001b[1;32m      3\u001b[0m \u001b[0;32mdel\u001b[0m \u001b[0mazdias\u001b[0m\u001b[0;34m[\u001b[0m\u001b[0;34m'D19_LETZTER_KAUF_BRANCHE'\u001b[0m\u001b[0;34m]\u001b[0m\u001b[0;34m\u001b[0m\u001b[0m\n",
      "\u001b[0;32m/opt/conda/lib/python3.6/site-packages/pandas/core/generic.py\u001b[0m in \u001b[0;36m__delitem__\u001b[0;34m(self, key)\u001b[0m\n\u001b[1;32m   2741\u001b[0m             \u001b[0;31m# there was no match, this call should raise the appropriate\u001b[0m\u001b[0;34m\u001b[0m\u001b[0;34m\u001b[0m\u001b[0m\n\u001b[1;32m   2742\u001b[0m             \u001b[0;31m# exception:\u001b[0m\u001b[0;34m\u001b[0m\u001b[0;34m\u001b[0m\u001b[0m\n\u001b[0;32m-> 2743\u001b[0;31m             \u001b[0mself\u001b[0m\u001b[0;34m.\u001b[0m\u001b[0m_data\u001b[0m\u001b[0;34m.\u001b[0m\u001b[0mdelete\u001b[0m\u001b[0;34m(\u001b[0m\u001b[0mkey\u001b[0m\u001b[0;34m)\u001b[0m\u001b[0;34m\u001b[0m\u001b[0m\n\u001b[0m\u001b[1;32m   2744\u001b[0m \u001b[0;34m\u001b[0m\u001b[0m\n\u001b[1;32m   2745\u001b[0m         \u001b[0;31m# delete from the caches\u001b[0m\u001b[0;34m\u001b[0m\u001b[0;34m\u001b[0m\u001b[0m\n",
      "\u001b[0;32m/opt/conda/lib/python3.6/site-packages/pandas/core/internals.py\u001b[0m in \u001b[0;36mdelete\u001b[0;34m(self, item)\u001b[0m\n\u001b[1;32m   4172\u001b[0m         \u001b[0mDelete\u001b[0m \u001b[0mselected\u001b[0m \u001b[0mitem\u001b[0m \u001b[0;34m(\u001b[0m\u001b[0mitems\u001b[0m \u001b[0;32mif\u001b[0m \u001b[0mnon\u001b[0m\u001b[0;34m-\u001b[0m\u001b[0munique\u001b[0m\u001b[0;34m)\u001b[0m \u001b[0;32min\u001b[0m\u001b[0;34m-\u001b[0m\u001b[0mplace\u001b[0m\u001b[0;34m.\u001b[0m\u001b[0;34m\u001b[0m\u001b[0m\n\u001b[1;32m   4173\u001b[0m         \"\"\"\n\u001b[0;32m-> 4174\u001b[0;31m         \u001b[0mindexer\u001b[0m \u001b[0;34m=\u001b[0m \u001b[0mself\u001b[0m\u001b[0;34m.\u001b[0m\u001b[0mitems\u001b[0m\u001b[0;34m.\u001b[0m\u001b[0mget_loc\u001b[0m\u001b[0;34m(\u001b[0m\u001b[0mitem\u001b[0m\u001b[0;34m)\u001b[0m\u001b[0;34m\u001b[0m\u001b[0m\n\u001b[0m\u001b[1;32m   4175\u001b[0m \u001b[0;34m\u001b[0m\u001b[0m\n\u001b[1;32m   4176\u001b[0m         \u001b[0mis_deleted\u001b[0m \u001b[0;34m=\u001b[0m \u001b[0mnp\u001b[0m\u001b[0;34m.\u001b[0m\u001b[0mzeros\u001b[0m\u001b[0;34m(\u001b[0m\u001b[0mself\u001b[0m\u001b[0;34m.\u001b[0m\u001b[0mshape\u001b[0m\u001b[0;34m[\u001b[0m\u001b[0;36m0\u001b[0m\u001b[0;34m]\u001b[0m\u001b[0;34m,\u001b[0m \u001b[0mdtype\u001b[0m\u001b[0;34m=\u001b[0m\u001b[0mnp\u001b[0m\u001b[0;34m.\u001b[0m\u001b[0mbool_\u001b[0m\u001b[0;34m)\u001b[0m\u001b[0;34m\u001b[0m\u001b[0m\n",
      "\u001b[0;32m/opt/conda/lib/python3.6/site-packages/pandas/core/indexes/base.py\u001b[0m in \u001b[0;36mget_loc\u001b[0;34m(self, key, method, tolerance)\u001b[0m\n\u001b[1;32m   3078\u001b[0m                 \u001b[0;32mreturn\u001b[0m \u001b[0mself\u001b[0m\u001b[0;34m.\u001b[0m\u001b[0m_engine\u001b[0m\u001b[0;34m.\u001b[0m\u001b[0mget_loc\u001b[0m\u001b[0;34m(\u001b[0m\u001b[0mkey\u001b[0m\u001b[0;34m)\u001b[0m\u001b[0;34m\u001b[0m\u001b[0m\n\u001b[1;32m   3079\u001b[0m             \u001b[0;32mexcept\u001b[0m \u001b[0mKeyError\u001b[0m\u001b[0;34m:\u001b[0m\u001b[0;34m\u001b[0m\u001b[0m\n\u001b[0;32m-> 3080\u001b[0;31m                 \u001b[0;32mreturn\u001b[0m \u001b[0mself\u001b[0m\u001b[0;34m.\u001b[0m\u001b[0m_engine\u001b[0m\u001b[0;34m.\u001b[0m\u001b[0mget_loc\u001b[0m\u001b[0;34m(\u001b[0m\u001b[0mself\u001b[0m\u001b[0;34m.\u001b[0m\u001b[0m_maybe_cast_indexer\u001b[0m\u001b[0;34m(\u001b[0m\u001b[0mkey\u001b[0m\u001b[0;34m)\u001b[0m\u001b[0;34m)\u001b[0m\u001b[0;34m\u001b[0m\u001b[0m\n\u001b[0m\u001b[1;32m   3081\u001b[0m \u001b[0;34m\u001b[0m\u001b[0m\n\u001b[1;32m   3082\u001b[0m         \u001b[0mindexer\u001b[0m \u001b[0;34m=\u001b[0m \u001b[0mself\u001b[0m\u001b[0;34m.\u001b[0m\u001b[0mget_indexer\u001b[0m\u001b[0;34m(\u001b[0m\u001b[0;34m[\u001b[0m\u001b[0mkey\u001b[0m\u001b[0;34m]\u001b[0m\u001b[0;34m,\u001b[0m \u001b[0mmethod\u001b[0m\u001b[0;34m=\u001b[0m\u001b[0mmethod\u001b[0m\u001b[0;34m,\u001b[0m \u001b[0mtolerance\u001b[0m\u001b[0;34m=\u001b[0m\u001b[0mtolerance\u001b[0m\u001b[0;34m)\u001b[0m\u001b[0;34m\u001b[0m\u001b[0m\n",
      "\u001b[0;32mpandas/_libs/index.pyx\u001b[0m in \u001b[0;36mpandas._libs.index.IndexEngine.get_loc\u001b[0;34m()\u001b[0m\n",
      "\u001b[0;32mpandas/_libs/index.pyx\u001b[0m in \u001b[0;36mpandas._libs.index.IndexEngine.get_loc\u001b[0;34m()\u001b[0m\n",
      "\u001b[0;32mpandas/_libs/hashtable_class_helper.pxi\u001b[0m in \u001b[0;36mpandas._libs.hashtable.PyObjectHashTable.get_item\u001b[0;34m()\u001b[0m\n",
      "\u001b[0;32mpandas/_libs/hashtable_class_helper.pxi\u001b[0m in \u001b[0;36mpandas._libs.hashtable.PyObjectHashTable.get_item\u001b[0;34m()\u001b[0m\n",
      "\u001b[0;31mKeyError\u001b[0m: 'CAMEO_INTL_2015'"
     ]
    }
   ],
   "source": [
    "# \"CAMEO_INTL_2015 and D19_LETZTER_KAUF_BRANCHE are removed for simplicity, because they have numerous unique values.\n",
    "# EINGEFUEGT_AM is some time related feature and is removed\n",
    "del azdias['CAMEO_INTL_2015']\n",
    "del azdias['D19_LETZTER_KAUF_BRANCHE']\n",
    "del azdias['EINGEFUEGT_AM']"
   ]
  },
  {
   "cell_type": "code",
   "execution_count": 40,
   "metadata": {
    "scrolled": false
   },
   "outputs": [
    {
     "data": {
      "text/plain": [
       "<matplotlib.axes._subplots.AxesSubplot at 0x7f609896e940>"
      ]
     },
     "execution_count": 40,
     "metadata": {},
     "output_type": "execute_result"
    },
    {
     "data": {
      "image/png": "[encoded data removed]",
      "text/plain": [
       "<matplotlib.figure.Figure at 0x7f609bab0550>"
      ]
     },
     "metadata": {
      "needs_background": "light"
     },
     "output_type": "display_data"
    }
   ],
   "source": [
    "# Look at columns proportion of nan values and remove those that have too much\n",
    "(azdias.isnull().sum(axis=0)/len(azdias)).hist(bins=50)"
   ]
  },
  {
   "cell_type": "code",
   "execution_count": 39,
   "metadata": {
    "scrolled": true
   },
   "outputs": [
    {
     "data": {
      "text/plain": [
       "ALTER_KIND4                    0.998648\n",
       "ALTER_KIND3                    0.993077\n",
       "ALTER_KIND2                    0.966900\n",
       "ALTER_KIND1                    0.909048\n",
       "EXTSEL992                      0.733996\n",
       "KK_KUNDENTYP                   0.655967\n",
       "ALTERSKATEGORIE_FEIN           0.295041\n",
       "D19_LETZTER_KAUF_BRANCHE       0.288495\n",
       "D19_LOTTO                      0.288495\n",
       "D19_VERSI_ONLINE_QUOTE_12      0.288495\n",
       "D19_BANKEN_ONLINE_QUOTE_12     0.288495\n",
       "D19_SOZIALES                   0.288495\n",
       "D19_GESAMT_ONLINE_QUOTE_12     0.288495\n",
       "D19_KONSUMTYP                  0.288495\n",
       "D19_TELKO_ONLINE_QUOTE_12      0.288495\n",
       "D19_VERSAND_ONLINE_QUOTE_12    0.288495\n",
       "KBA05_MOTOR                    0.149597\n",
       "KBA05_MOD8                     0.149597\n",
       "KBA05_MOD4                     0.149597\n",
       "KBA05_MOD3                     0.149597\n",
       "KBA05_MOD2                     0.149597\n",
       "KBA05_SEG1                     0.149597\n",
       "KBA05_MOD1                     0.149597\n",
       "KBA05_MAXVORB                  0.149597\n",
       "KBA05_MAXSEG                   0.149597\n",
       "KBA05_MAXHERST                 0.149597\n",
       "KBA05_MAXBJ                    0.149597\n",
       "KBA05_MAXAH                    0.149597\n",
       "KBA05_KW3                      0.149597\n",
       "KBA05_MOTRAD                   0.149597\n",
       "                                 ...   \n",
       "D19_RATGEBER                   0.000000\n",
       "FINANZ_ANLEGER                 0.000000\n",
       "D19_REISEN                     0.000000\n",
       "D19_SAMMELARTIKEL              0.000000\n",
       "D19_SCHUHE                     0.000000\n",
       "D19_SONSTIGE                   0.000000\n",
       "D19_TECHNIK                    0.000000\n",
       "D19_TELKO_ANZ_12               0.000000\n",
       "D19_TELKO_ANZ_24               0.000000\n",
       "D19_TELKO_DATUM                0.000000\n",
       "D19_TELKO_MOBILE               0.000000\n",
       "D19_TELKO_OFFLINE_DATUM        0.000000\n",
       "D19_TELKO_ONLINE_DATUM         0.000000\n",
       "D19_TELKO_REST                 0.000000\n",
       "D19_TIERARTIKEL                0.000000\n",
       "D19_VERSAND_ANZ_12             0.000000\n",
       "D19_VERSAND_ANZ_24             0.000000\n",
       "D19_VERSAND_DATUM              0.000000\n",
       "D19_VERSAND_OFFLINE_DATUM      0.000000\n",
       "D19_VERSAND_ONLINE_DATUM       0.000000\n",
       "D19_VERSAND_REST               0.000000\n",
       "D19_VERSI_ANZ_12               0.000000\n",
       "D19_VERSI_ANZ_24               0.000000\n",
       "D19_VERSI_DATUM                0.000000\n",
       "D19_VERSI_OFFLINE_DATUM        0.000000\n",
       "D19_VERSI_ONLINE_DATUM         0.000000\n",
       "D19_VERSICHERUNGEN             0.000000\n",
       "D19_VOLLSORTIMENT              0.000000\n",
       "D19_WEIN_FEINKOST              0.000000\n",
       "LNR                            0.000000\n",
       "Length: 366, dtype: float64"
      ]
     },
     "execution_count": 39,
     "metadata": {},
     "output_type": "execute_result"
    }
   ],
   "source": [
    "(azdias.isnull().sum(axis=0)/len(azdias)).sort_values(ascending=False)"
   ]
  },
  {
   "cell_type": "code",
   "execution_count": 37,
   "metadata": {
    "scrolled": true
   },
   "outputs": [
    {
     "data": {
      "text/plain": [
       "<matplotlib.axes._subplots.AxesSubplot at 0x7f609ba63898>"
      ]
     },
     "execution_count": 37,
     "metadata": {},
     "output_type": "execute_result"
    },
    {
     "data": {
      "image/png": "[encoded data removed]",
      "text/plain": [
       "<matplotlib.figure.Figure at 0x7f609ba95390>"
      ]
     },
     "metadata": {
      "needs_background": "light"
     },
     "output_type": "display_data"
    }
   ],
   "source": [
    "# Look at rows proportion of nan values\n",
    "(azdias.isnull().sum(axis=1)/len(azdias.columns)).hist(bins=50)"
   ]
  },
  {
   "cell_type": "markdown",
   "metadata": {},
   "source": [
    "### Discussion :\n",
    "We have observed a clear cut in the percentage of missing data per row at 28% (then it drop at 14% which I will assume here as okay). Following features are therefore removed :\n",
    "\n",
    "[ALTER_KIND4,ALTER_KIND3,ALTER_KIND2,ALTER_KIND1,EXTSEL992,KK_KUNDENTYP,ALTERSKATEGORIE_FEIN,\n",
    "D19_LETZTER_KAUF_BRANCHE,D19_LOTTO,D19_VERSI_ONLINE_QUOTE_12,D19_BANKEN_ONLINE_QUOTE_12,\n",
    "D19_SOZIALES,D19_GESAMT_ONLINE_QUOTE_12,D19_KONSUMTYP,D19_TELKO_ONLINE_QUOTE_12,D19_VERSAND_ONLINE_QUOTE_12]\n",
    "\n",
    "Additionnally rows with more than 25% of missing values are removed as well.\n",
    "\n",
    "The rest of the missing data will be imputed with some scikit functionalities"
   ]
  },
  {
   "cell_type": "markdown",
   "metadata": {},
   "source": [
    "### Step 1.3: Create a Cleaning Function"
   ]
  },
  {
   "cell_type": "code",
   "execution_count": 7,
   "metadata": {},
   "outputs": [],
   "source": [
    "def clean_data(df, attributes, rm_rows = 1):\n",
    "    \"\"\"\n",
    "    Perform feature trimming, re-encoding, and engineering for demographics\n",
    "    data\n",
    "    \n",
    "    INPUT: Demographics DataFrame\n",
    "    OUTPUT: Trimmed and cleaned demographics DataFrame\n",
    "    \"\"\"\n",
    "    \n",
    "    print('Entering shape A : '+str(df.shape))\n",
    "        \n",
    "    # Put in code here to execute all main cleaning steps:\n",
    "    # A) convert missing value codes into NaNs, ...\n",
    "\n",
    "    # Get a list of all unknown values per Attribute.\n",
    "    unknown_names = attributes['Meaning'].where(attributes['Meaning'].str.contains('unknown')).value_counts().index    \n",
    "    attributes_missing = attributes[attributes['Meaning'].isin(unknown_names)]\n",
    "    \n",
    "    # let's replace all unknown values with NaN\n",
    "    print('Starting replacing nan values')\n",
    "    for row in attributes_missing.iterrows():\n",
    "        missing_values = row[1]['Value']\n",
    "        attribute = row[1]['Attribute']\n",
    "        # Some attributes of DIAS Attributes do not exist in the dataset ...\n",
    "        if attribute not in df.columns:\n",
    "            print(attribute+' is surpisingly not found in df.')\n",
    "            continue        \n",
    "\n",
    "        # different treatement if missing_values is a string or a int\n",
    "        if isinstance(missing_values,int): \n",
    "            df[attribute].replace(missing_values, np.nan, inplace=True)\n",
    "        elif isinstance(missing_values,str):\n",
    "            eval(\"df[attribute].replace([\"+missing_values+\"], np.nan, inplace=True)\")\n",
    "    \n",
    "    # CAMEO columns have special char for missing values\n",
    "    df['CAMEO_DEUG_2015'].replace('X',np.nan, inplace=True)\n",
    "    df['CAMEO_DEU_2015'].replace('XX',np.nan, inplace=True)\n",
    "    df['CAMEO_INTL_2015'].replace('XX',np.nan, inplace=True)\n",
    "    \n",
    "    # B) remove selected columns and rows, ...\n",
    "    # Remove columns that have more than 30% of data missing\n",
    "    list_feat_drop = ['ALTER_KIND4','ALTER_KIND3','ALTER_KIND2','ALTER_KIND1','EXTSEL992','KK_KUNDENTYP',\n",
    "                      'ALTERSKATEGORIE_FEIN','D19_LETZTER_KAUF_BRANCHE','D19_LOTTO','D19_VERSI_ONLINE_QUOTE_12',\n",
    "                      'D19_BANKEN_ONLINE_QUOTE_12','D19_SOZIALES','D19_GESAMT_ONLINE_QUOTE_12',\n",
    "                      'D19_KONSUMTYP','D19_TELKO_ONLINE_QUOTE_12','D19_VERSAND_ONLINE_QUOTE_12']\n",
    "    \n",
    "    # Remove columns if they are in df\n",
    "    for feat in list_feat_drop:\n",
    "        if feat in df.columns:\n",
    "            del df[feat]\n",
    "    \n",
    "    # Also removed from attributes information\n",
    "    attributes = attributes[~attributes['Attribute'].isin(list_feat_drop)]\n",
    "    \n",
    "    \n",
    "    if rm_rows != 0:\n",
    "        # Remove rows more than 25% empty\n",
    "        print('New shape B : '+str(df.shape))\n",
    "        isBelow25 = df.isnull().sum(axis=1)/len(df.columns) < 0.10\n",
    "        df = df[isBelow25]\n",
    "        print('New shape C : '+str(df.shape))\n",
    "    \n",
    "    # select, re-encode, and engineer column values.\n",
    "    # OST_WEST_KZ\n",
    "    df['OST_WEST_KZ'].replace('W',1, inplace=True)\n",
    "    df['OST_WEST_KZ'].replace('O',0, inplace=True)\n",
    "    \n",
    "    # CAMEO_DEUG_2015\n",
    "    df['CAMEO_DEUG_2015'] = df['CAMEO_DEUG_2015'].astype(float)\n",
    "    \n",
    "    # CAMEO_DEU_2015\n",
    "    del df['CAMEO_DEU_2015']\n",
    "    \n",
    "    # Additional features created based on arvato term1 project\n",
    "    # MOVEMENT from PRAEGENDE_JUGENDJAHRE\n",
    "    df['MOVEMENT'] = np.nan\n",
    "    df.loc[df['PRAEGENDE_JUGENDJAHRE'].isin((1,3,5,8,10,12,14)),'MOVEMENT'] = 1\n",
    "    df.loc[df['PRAEGENDE_JUGENDJAHRE'].isin((2,4,6,7,9,11,13,15)),'MOVEMENT'] = 0\n",
    "    # DECADE from PRAEGENDE_JUGENDJAHRE\n",
    "    df['DECADE'] = np.nan\n",
    "    df.loc[df['PRAEGENDE_JUGENDJAHRE'].isin([1,2]),'DECADE'] = 1\n",
    "    df.loc[df['PRAEGENDE_JUGENDJAHRE'].isin((3,4)),'DECADE'] = 2\n",
    "    df.loc[df['PRAEGENDE_JUGENDJAHRE'].isin((5,6,7)),'DECADE'] = 3\n",
    "    df.loc[df['PRAEGENDE_JUGENDJAHRE'].isin((8,9)),'DECADE'] = 4\n",
    "    df.loc[df['PRAEGENDE_JUGENDJAHRE'].isin((10,11,12, 13)),'DECADE'] = 5\n",
    "    df.loc[df['PRAEGENDE_JUGENDJAHRE'].isin((14,15)),'DECADE'] = 6\n",
    "    del df['PRAEGENDE_JUGENDJAHRE']\n",
    "\n",
    "    # WEALTH from CAMEO_INTL_2015\n",
    "    is_nan_CAMEO_INTL_2015  = df.CAMEO_INTL_2015.isnull()\n",
    "    df['WEALTH']= np.nan\n",
    "    df.loc[~is_nan_CAMEO_INTL_2015,'WEALTH']= df.loc[~is_nan_CAMEO_INTL_2015,'CAMEO_INTL_2015'].astype(str).str[0].astype(int)\n",
    "    # LIFE STAGE from CAMEO_INTL_2015\n",
    "    df['LIFE_STAGE']= np.nan\n",
    "    df.loc[~is_nan_CAMEO_INTL_2015,'LIFE_STAGE']= df.loc[~is_nan_CAMEO_INTL_2015,'CAMEO_INTL_2015'].astype(str).str[1].astype(int)\n",
    "    del df['CAMEO_INTL_2015']\n",
    "    \n",
    "    # Drop LEBENSPHASE doublets (keep either GROB or FEIN)\n",
    "    del df['LP_LEBENSPHASE_FEIN']\n",
    "    del df['LP_FAMILIE_GROB']\n",
    "    del df['LP_STATUS_GROB']\n",
    "    \n",
    "    # Drop object type columns\n",
    "    del df['EINGEFUEGT_AM']\n",
    "    \n",
    "    print('New shape D : '+str(df.shape))\n",
    "    # Return the cleaned dataframe.\n",
    "    return df   "
   ]
  },
  {
   "cell_type": "code",
   "execution_count": 8,
   "metadata": {},
   "outputs": [
    {
     "name": "stderr",
     "output_type": "stream",
     "text": [
      "/opt/conda/lib/python3.6/site-packages/IPython/core/interactiveshell.py:2785: DtypeWarning: Columns (18,19) have mixed types. Specify dtype option on import or set low_memory=False.\n",
      "  interactivity=interactivity, compiler=compiler, result=result)\n"
     ]
    }
   ],
   "source": [
    "azdias = pd.read_csv('../../data/Term2/capstone/arvato_data/Udacity_AZDIAS_052018.csv', sep=';')"
   ]
  },
  {
   "cell_type": "code",
   "execution_count": 9,
   "metadata": {},
   "outputs": [
    {
     "name": "stdout",
     "output_type": "stream",
     "text": [
      "Entering shape A : (891221, 366)\n",
      "Starting replacing nan values\n",
      "BIP_FLAG is surpisingly not found in df.\n",
      "CAMEO_DEUINTL_2015 is surpisingly not found in df.\n",
      "D19_KK_KUNDENTYP is surpisingly not found in df.\n",
      "GEOSCORE_KLS7 is surpisingly not found in df.\n",
      "HAUSHALTSSTRUKTUR is surpisingly not found in df.\n",
      "KBA13_CCM_1400_2500 is surpisingly not found in df.\n",
      "SOHO_FLAG is surpisingly not found in df.\n",
      "WACHSTUMSGEBIET_NB is surpisingly not found in df.\n",
      "New shape B : (891221, 350)\n",
      "New shape C : (737286, 350)\n"
     ]
    },
    {
     "name": "stderr",
     "output_type": "stream",
     "text": [
      "/opt/conda/lib/python3.6/site-packages/pandas/core/generic.py:5890: SettingWithCopyWarning: \n",
      "A value is trying to be set on a copy of a slice from a DataFrame\n",
      "\n",
      "See the caveats in the documentation: http://pandas.pydata.org/pandas-docs/stable/indexing.html#indexing-view-versus-copy\n",
      "  self._update_inplace(new_data)\n",
      "/opt/conda/lib/python3.6/site-packages/ipykernel_launcher.py:69: SettingWithCopyWarning: \n",
      "A value is trying to be set on a copy of a slice from a DataFrame.\n",
      "Try using .loc[row_indexer,col_indexer] = value instead\n",
      "\n",
      "See the caveats in the documentation: http://pandas.pydata.org/pandas-docs/stable/indexing.html#indexing-view-versus-copy\n",
      "/opt/conda/lib/python3.6/site-packages/ipykernel_launcher.py:76: SettingWithCopyWarning: \n",
      "A value is trying to be set on a copy of a slice from a DataFrame.\n",
      "Try using .loc[row_indexer,col_indexer] = value instead\n",
      "\n",
      "See the caveats in the documentation: http://pandas.pydata.org/pandas-docs/stable/indexing.html#indexing-view-versus-copy\n",
      "/opt/conda/lib/python3.6/site-packages/pandas/core/indexing.py:543: SettingWithCopyWarning: \n",
      "A value is trying to be set on a copy of a slice from a DataFrame.\n",
      "Try using .loc[row_indexer,col_indexer] = value instead\n",
      "\n",
      "See the caveats in the documentation: http://pandas.pydata.org/pandas-docs/stable/indexing.html#indexing-view-versus-copy\n",
      "  self.obj[item] = s\n",
      "/opt/conda/lib/python3.6/site-packages/ipykernel_launcher.py:80: SettingWithCopyWarning: \n",
      "A value is trying to be set on a copy of a slice from a DataFrame.\n",
      "Try using .loc[row_indexer,col_indexer] = value instead\n",
      "\n",
      "See the caveats in the documentation: http://pandas.pydata.org/pandas-docs/stable/indexing.html#indexing-view-versus-copy\n",
      "/opt/conda/lib/python3.6/site-packages/ipykernel_launcher.py:91: SettingWithCopyWarning: \n",
      "A value is trying to be set on a copy of a slice from a DataFrame.\n",
      "Try using .loc[row_indexer,col_indexer] = value instead\n",
      "\n",
      "See the caveats in the documentation: http://pandas.pydata.org/pandas-docs/stable/indexing.html#indexing-view-versus-copy\n",
      "/opt/conda/lib/python3.6/site-packages/ipykernel_launcher.py:94: SettingWithCopyWarning: \n",
      "A value is trying to be set on a copy of a slice from a DataFrame.\n",
      "Try using .loc[row_indexer,col_indexer] = value instead\n",
      "\n",
      "See the caveats in the documentation: http://pandas.pydata.org/pandas-docs/stable/indexing.html#indexing-view-versus-copy\n"
     ]
    },
    {
     "name": "stdout",
     "output_type": "stream",
     "text": [
      "New shape D : (737286, 347)\n"
     ]
    },
    {
     "data": {
      "text/html": [
       "<div>\n",
       "<style scoped>\n",
       "    .dataframe tbody tr th:only-of-type {\n",
       "        vertical-align: middle;\n",
       "    }\n",
       "\n",
       "    .dataframe tbody tr th {\n",
       "        vertical-align: top;\n",
       "    }\n",
       "\n",
       "    .dataframe thead th {\n",
       "        text-align: right;\n",
       "    }\n",
       "</style>\n",
       "<table border=\"1\" class=\"dataframe\">\n",
       "  <thead>\n",
       "    <tr style=\"text-align: right;\">\n",
       "      <th></th>\n",
       "      <th>LNR</th>\n",
       "      <th>AGER_TYP</th>\n",
       "      <th>AKT_DAT_KL</th>\n",
       "      <th>ALTER_HH</th>\n",
       "      <th>ANZ_HAUSHALTE_AKTIV</th>\n",
       "      <th>ANZ_HH_TITEL</th>\n",
       "      <th>ANZ_KINDER</th>\n",
       "      <th>ANZ_PERSONEN</th>\n",
       "      <th>ANZ_STATISTISCHE_HAUSHALTE</th>\n",
       "      <th>ANZ_TITEL</th>\n",
       "      <th>...</th>\n",
       "      <th>W_KEIT_KIND_HH</th>\n",
       "      <th>WOHNDAUER_2008</th>\n",
       "      <th>WOHNLAGE</th>\n",
       "      <th>ZABEOTYP</th>\n",
       "      <th>ANREDE_KZ</th>\n",
       "      <th>ALTERSKATEGORIE_GROB</th>\n",
       "      <th>MOVEMENT</th>\n",
       "      <th>DECADE</th>\n",
       "      <th>WEALTH</th>\n",
       "      <th>LIFE_STAGE</th>\n",
       "    </tr>\n",
       "  </thead>\n",
       "  <tbody>\n",
       "    <tr>\n",
       "      <th>1</th>\n",
       "      <td>910220</td>\n",
       "      <td>NaN</td>\n",
       "      <td>9.0</td>\n",
       "      <td>NaN</td>\n",
       "      <td>11.0</td>\n",
       "      <td>0.0</td>\n",
       "      <td>0.0</td>\n",
       "      <td>2.0</td>\n",
       "      <td>12.0</td>\n",
       "      <td>0.0</td>\n",
       "      <td>...</td>\n",
       "      <td>3.0</td>\n",
       "      <td>9.0</td>\n",
       "      <td>4.0</td>\n",
       "      <td>5</td>\n",
       "      <td>2</td>\n",
       "      <td>1</td>\n",
       "      <td>1.0</td>\n",
       "      <td>6.0</td>\n",
       "      <td>5.0</td>\n",
       "      <td>1.0</td>\n",
       "    </tr>\n",
       "    <tr>\n",
       "      <th>2</th>\n",
       "      <td>910225</td>\n",
       "      <td>NaN</td>\n",
       "      <td>9.0</td>\n",
       "      <td>17.0</td>\n",
       "      <td>10.0</td>\n",
       "      <td>0.0</td>\n",
       "      <td>0.0</td>\n",
       "      <td>1.0</td>\n",
       "      <td>7.0</td>\n",
       "      <td>0.0</td>\n",
       "      <td>...</td>\n",
       "      <td>3.0</td>\n",
       "      <td>9.0</td>\n",
       "      <td>2.0</td>\n",
       "      <td>5</td>\n",
       "      <td>2</td>\n",
       "      <td>3</td>\n",
       "      <td>0.0</td>\n",
       "      <td>6.0</td>\n",
       "      <td>2.0</td>\n",
       "      <td>4.0</td>\n",
       "    </tr>\n",
       "    <tr>\n",
       "      <th>3</th>\n",
       "      <td>910226</td>\n",
       "      <td>2.0</td>\n",
       "      <td>1.0</td>\n",
       "      <td>13.0</td>\n",
       "      <td>1.0</td>\n",
       "      <td>0.0</td>\n",
       "      <td>0.0</td>\n",
       "      <td>0.0</td>\n",
       "      <td>2.0</td>\n",
       "      <td>0.0</td>\n",
       "      <td>...</td>\n",
       "      <td>NaN</td>\n",
       "      <td>9.0</td>\n",
       "      <td>7.0</td>\n",
       "      <td>3</td>\n",
       "      <td>2</td>\n",
       "      <td>4</td>\n",
       "      <td>1.0</td>\n",
       "      <td>4.0</td>\n",
       "      <td>1.0</td>\n",
       "      <td>2.0</td>\n",
       "    </tr>\n",
       "    <tr>\n",
       "      <th>4</th>\n",
       "      <td>910241</td>\n",
       "      <td>NaN</td>\n",
       "      <td>1.0</td>\n",
       "      <td>20.0</td>\n",
       "      <td>3.0</td>\n",
       "      <td>0.0</td>\n",
       "      <td>0.0</td>\n",
       "      <td>4.0</td>\n",
       "      <td>3.0</td>\n",
       "      <td>0.0</td>\n",
       "      <td>...</td>\n",
       "      <td>2.0</td>\n",
       "      <td>9.0</td>\n",
       "      <td>3.0</td>\n",
       "      <td>4</td>\n",
       "      <td>1</td>\n",
       "      <td>3</td>\n",
       "      <td>1.0</td>\n",
       "      <td>4.0</td>\n",
       "      <td>4.0</td>\n",
       "      <td>3.0</td>\n",
       "    </tr>\n",
       "    <tr>\n",
       "      <th>5</th>\n",
       "      <td>910244</td>\n",
       "      <td>3.0</td>\n",
       "      <td>1.0</td>\n",
       "      <td>10.0</td>\n",
       "      <td>5.0</td>\n",
       "      <td>0.0</td>\n",
       "      <td>0.0</td>\n",
       "      <td>1.0</td>\n",
       "      <td>2.0</td>\n",
       "      <td>0.0</td>\n",
       "      <td>...</td>\n",
       "      <td>6.0</td>\n",
       "      <td>9.0</td>\n",
       "      <td>7.0</td>\n",
       "      <td>4</td>\n",
       "      <td>2</td>\n",
       "      <td>1</td>\n",
       "      <td>1.0</td>\n",
       "      <td>2.0</td>\n",
       "      <td>5.0</td>\n",
       "      <td>4.0</td>\n",
       "    </tr>\n",
       "  </tbody>\n",
       "</table>\n",
       "<p>5 rows × 347 columns</p>\n",
       "</div>"
      ],
      "text/plain": [
       "      LNR  AGER_TYP  AKT_DAT_KL  ALTER_HH  ANZ_HAUSHALTE_AKTIV  ANZ_HH_TITEL  \\\n",
       "1  910220       NaN         9.0       NaN                 11.0           0.0   \n",
       "2  910225       NaN         9.0      17.0                 10.0           0.0   \n",
       "3  910226       2.0         1.0      13.0                  1.0           0.0   \n",
       "4  910241       NaN         1.0      20.0                  3.0           0.0   \n",
       "5  910244       3.0         1.0      10.0                  5.0           0.0   \n",
       "\n",
       "   ANZ_KINDER  ANZ_PERSONEN  ANZ_STATISTISCHE_HAUSHALTE  ANZ_TITEL  \\\n",
       "1         0.0           2.0                        12.0        0.0   \n",
       "2         0.0           1.0                         7.0        0.0   \n",
       "3         0.0           0.0                         2.0        0.0   \n",
       "4         0.0           4.0                         3.0        0.0   \n",
       "5         0.0           1.0                         2.0        0.0   \n",
       "\n",
       "      ...      W_KEIT_KIND_HH  WOHNDAUER_2008  WOHNLAGE  ZABEOTYP  ANREDE_KZ  \\\n",
       "1     ...                 3.0             9.0       4.0         5          2   \n",
       "2     ...                 3.0             9.0       2.0         5          2   \n",
       "3     ...                 NaN             9.0       7.0         3          2   \n",
       "4     ...                 2.0             9.0       3.0         4          1   \n",
       "5     ...                 6.0             9.0       7.0         4          2   \n",
       "\n",
       "   ALTERSKATEGORIE_GROB  MOVEMENT  DECADE  WEALTH  LIFE_STAGE  \n",
       "1                     1       1.0     6.0     5.0         1.0  \n",
       "2                     3       0.0     6.0     2.0         4.0  \n",
       "3                     4       1.0     4.0     1.0         2.0  \n",
       "4                     3       1.0     4.0     4.0         3.0  \n",
       "5                     1       1.0     2.0     5.0         4.0  \n",
       "\n",
       "[5 rows x 347 columns]"
      ]
     },
     "execution_count": 9,
     "metadata": {},
     "output_type": "execute_result"
    }
   ],
   "source": [
    "# Apply clean_data on a copy of the azdias dataset\n",
    "azdias_clean = clean_data(azdias, attributes_missing)\n",
    "azdias_clean.head()"
   ]
  },
  {
   "cell_type": "markdown",
   "metadata": {},
   "source": [
    "## Step 2: Feature Transformation\n",
    "Before we apply dimensionality reduction techniques to the data, we need to perform feature scaling so that the principal component vectors are not influenced by the natural differences in scale for features. [API reference page for sklearn](http://scikit-learn.org/stable/modules/classes.html) is perfect to help us.\n",
    "\n",
    "### Step 2.1: Apply Feature Scaling"
   ]
  },
  {
   "cell_type": "code",
   "execution_count": 10,
   "metadata": {
    "scrolled": true
   },
   "outputs": [
    {
     "name": "stdout",
     "output_type": "stream",
     "text": [
      "--- 14.544276475906372 seconds ---\n"
     ]
    }
   ],
   "source": [
    "# Apply feature scaling to the general population demographics data. Inpute median to replace nan and stantard scaler\n",
    "start_time = time.time()\n",
    "imp = Imputer(strategy=\"mean\", axis=0)\n",
    "scaler = StandardScaler()\n",
    "azdias_scaled = scaler.fit_transform(imp.fit_transform(azdias_clean.iloc[0:100000]))\n",
    "print(\"--- %s seconds ---\" % (time.time() - start_time))"
   ]
  },
  {
   "cell_type": "code",
   "execution_count": 11,
   "metadata": {},
   "outputs": [
    {
     "name": "stdout",
     "output_type": "stream",
     "text": [
      "--- 1.2997212409973145 seconds ---\n"
     ]
    }
   ],
   "source": [
    "start_time = time.time()\n",
    "azdias_scaled = scaler.transform(imp.transform(azdias_clean.iloc[0:100000]))\n",
    "print(\"--- %s seconds ---\" % (time.time() - start_time))"
   ]
  },
  {
   "cell_type": "markdown",
   "metadata": {},
   "source": [
    "### Step 2.2: Perform Dimensionality Reduction\n",
    "\n",
    "We are ready to apply dimensionality reduction techniques on our scaled data.\n",
    "\n",
    "We'll use sklearn's [PCA](http://scikit-learn.org/stable/modules/generated/sklearn.decomposition.PCA.html) class to apply principal component analysis on the data, thus finding the vectors of maximal variance in the data."
   ]
  },
  {
   "cell_type": "code",
   "execution_count": 12,
   "metadata": {},
   "outputs": [],
   "source": [
    "# scree_plot helper function, to see explained variance vs number of dimensions\n",
    "def scree_plot(pca):\n",
    "    '''\n",
    "    Creates a scree plot associated with the principal components \n",
    "    \n",
    "    INPUT: pca - the result of instantian of PCA in scikit learn\n",
    "            \n",
    "    OUTPUT:\n",
    "            None\n",
    "    '''\n",
    "    num_components=len(pca.explained_variance_ratio_)\n",
    "    ind = np.arange(num_components)\n",
    "    vals = pca.explained_variance_ratio_\n",
    " \n",
    "    plt.figure(figsize=(10, 6))\n",
    "    ax = plt.subplot(111)\n",
    "    cumvals = np.cumsum(vals)\n",
    "    ax.bar(ind, vals)\n",
    "    ax.plot(ind, cumvals)\n",
    "    for i in range(num_components):\n",
    "        ax.annotate(r\"%s%%\" % ((str(vals[i]*100)[:4])), (ind[i]+0.2, vals[i]), va=\"bottom\", ha=\"center\", fontsize=12)\n",
    " \n",
    "    ax.xaxis.set_tick_params(width=0)\n",
    "    ax.yaxis.set_tick_params(width=2, length=12)\n",
    " \n",
    "    ax.set_xlabel(\"Principal Component\")\n",
    "    ax.set_ylabel(\"Variance Explained (%)\")\n",
    "    plt.title('Explained Variance Per Principal Component')"
   ]
  },
  {
   "cell_type": "code",
   "execution_count": 13,
   "metadata": {
    "scrolled": false
   },
   "outputs": [
    {
     "name": "stdout",
     "output_type": "stream",
     "text": [
      "--- 1.7067208290100098 seconds ---\n"
     ]
    },
    {
     "data": {
      "image/png": "[encoded data removed]",
      "text/plain": [
       "<matplotlib.figure.Figure at 0x7fddec87ceb8>"
      ]
     },
     "metadata": {
      "needs_background": "light"
     },
     "output_type": "display_data"
    }
   ],
   "source": [
    "start_time = time.time()\n",
    "pca300 = PCA(300)\n",
    "# PCA calculated for only 100'000 values for computational time reasons\n",
    "X_pca = pca300.fit_transform(azdias_scaled[0:10000])\n",
    "scree_plot(pca300)\n",
    "print(\"--- %s seconds ---\" % (time.time() - start_time))"
   ]
  },
  {
   "cell_type": "code",
   "execution_count": 14,
   "metadata": {},
   "outputs": [],
   "source": [
    "explained_variance = pd.DataFrame(pca300.explained_variance_ratio_.cumsum()*100)"
   ]
  },
  {
   "cell_type": "code",
   "execution_count": 15,
   "metadata": {},
   "outputs": [
    {
     "name": "stdout",
     "output_type": "stream",
     "text": [
      "0    8.409862\n",
      "Name: 0, dtype: float64\n",
      "0    61.123215\n",
      "Name: 50, dtype: float64\n",
      "0    76.253189\n",
      "Name: 100, dtype: float64\n",
      "0    86.552659\n",
      "Name: 150, dtype: float64\n",
      "0    93.377257\n",
      "Name: 200, dtype: float64\n",
      "0    97.159457\n",
      "Name: 250, dtype: float64\n"
     ]
    }
   ],
   "source": [
    "print(explained_variance.iloc[0])\n",
    "print(explained_variance.iloc[50])\n",
    "print(explained_variance.iloc[100])\n",
    "print(explained_variance.iloc[150])\n",
    "print(explained_variance.iloc[200])\n",
    "print(explained_variance.iloc[250])"
   ]
  },
  {
   "cell_type": "code",
   "execution_count": 16,
   "metadata": {},
   "outputs": [
    {
     "data": {
      "text/plain": [
       "0.74862298315635878"
      ]
     },
     "execution_count": 16,
     "metadata": {},
     "output_type": "execute_result"
    }
   ],
   "source": [
    "# Re-apply PCA to the data while selecting for number of components to retain.\n",
    "pca = PCA(100)\n",
    "# In here not the entire dataset is fit, for computational time reasons. User is free to change it.\n",
    "X_pca = pca.fit_transform(azdias_scaled[0:100000])\n",
    "sum(pca.explained_variance_ratio_)"
   ]
  },
  {
   "cell_type": "markdown",
   "metadata": {},
   "source": [
    "### Discussion\n",
    "\n",
    "The first dimension explains 8.4% of the variance, where as the 50 first ones explain 60. \n",
    "For the continuation of the analysis, 100 dimensions are selected, which explain 75% of the variance. Given the size of the dataset, I'll try not to have to many dimensions which lead to enormous computational time as well as potential overfitting"
   ]
  },
  {
   "cell_type": "markdown",
   "metadata": {},
   "source": [
    "## Step 3: Clustering\n",
    "\n",
    "### Step 3.1: Apply Clustering to General Population\n",
    "Data was cleaned, transformed and scaled. Now, it's time to see how the data clusters in the principal components space. In this substep, k-means clustering is applied to the dataset and the average within-cluster distances from each point to their assigned cluster's centroid is used to decide on a number of clusters to keep."
   ]
  },
  {
   "cell_type": "code",
   "execution_count": 17,
   "metadata": {},
   "outputs": [
    {
     "name": "stdout",
     "output_type": "stream",
     "text": [
      "1\n",
      "2\n",
      "3\n",
      "5\n",
      "8\n",
      "12\n",
      "15\n"
     ]
    }
   ],
   "source": [
    "# Over a number of different cluster counts...\n",
    "ks = [1,2,3,5,8,12,15]\n",
    "scores = []\n",
    "for i in ks:\n",
    "    print(i)\n",
    "    \n",
    "    #run k-means clustering on the data and...\n",
    "    kmeans = KMeans(n_clusters=i)\n",
    "    model = kmeans.fit(azdias_scaled[0:1000])\n",
    "\n",
    "    # compute the average within-cluster distances\n",
    "    scores.append(np.abs(model.score(azdias_scaled[0:1000])))"
   ]
  },
  {
   "cell_type": "code",
   "execution_count": 18,
   "metadata": {
    "scrolled": true
   },
   "outputs": [
    {
     "data": {
      "image/png": "[encoded data removed]",
      "text/plain": [
       "<matplotlib.figure.Figure at 0x7fdded149a90>"
      ]
     },
     "metadata": {
      "needs_background": "light"
     },
     "output_type": "display_data"
    }
   ],
   "source": [
    "plt.figure(figsize=(10, 8)) \n",
    "plt.plot(ks,scores, linestyle='--', marker='o', color='b')\n",
    "plt.xlabel('K', fontsize=20)\n",
    "plt.ylabel('SSE', fontsize=20)\n",
    "plt.title('SSE vs. K', fontsize=20)\n",
    "plt.show()"
   ]
  },
  {
   "cell_type": "code",
   "execution_count": 19,
   "metadata": {},
   "outputs": [],
   "source": [
    "# Re-fit the k-means model with the selected number of clusters and obtain\n",
    "# cluster predictions for the general population demographics data.\n",
    "\n",
    "# I've selected 6. Gradient is then much smaller.\n",
    "kmeans = KMeans(n_clusters=6)\n",
    "kmodel = kmeans.fit(X_pca)"
   ]
  },
  {
   "cell_type": "markdown",
   "metadata": {},
   "source": [
    "### Discussion :\n",
    "I've decided to keep 6 clusters because the gradient gets much smaller for higher k values."
   ]
  },
  {
   "cell_type": "markdown",
   "metadata": {},
   "source": [
    "### Step 3.2: Apply All Steps to the Customer Data\n",
    "\n",
    "We can now repeat the same data preprocessing steps for the customer data, and make a prediction for the two datasets : the general population and the customers."
   ]
  },
  {
   "cell_type": "code",
   "execution_count": 20,
   "metadata": {},
   "outputs": [
    {
     "name": "stderr",
     "output_type": "stream",
     "text": [
      "/opt/conda/lib/python3.6/site-packages/IPython/core/interactiveshell.py:2785: DtypeWarning: Columns (18,19) have mixed types. Specify dtype option on import or set low_memory=False.\n",
      "  interactivity=interactivity, compiler=compiler, result=result)\n"
     ]
    },
    {
     "name": "stdout",
     "output_type": "stream",
     "text": [
      "Entering shape A : (191652, 366)\n",
      "Starting replacing nan values\n",
      "BIP_FLAG is surpisingly not found in df.\n",
      "CAMEO_DEUINTL_2015 is surpisingly not found in df.\n",
      "D19_KK_KUNDENTYP is surpisingly not found in df.\n",
      "GEOSCORE_KLS7 is surpisingly not found in df.\n",
      "HAUSHALTSSTRUKTUR is surpisingly not found in df.\n",
      "KBA13_CCM_1400_2500 is surpisingly not found in df.\n",
      "SOHO_FLAG is surpisingly not found in df.\n",
      "WACHSTUMSGEBIET_NB is surpisingly not found in df.\n",
      "New shape B : (191652, 350)\n",
      "New shape C : (134245, 350)\n"
     ]
    },
    {
     "name": "stderr",
     "output_type": "stream",
     "text": [
      "/opt/conda/lib/python3.6/site-packages/pandas/core/generic.py:5890: SettingWithCopyWarning: \n",
      "A value is trying to be set on a copy of a slice from a DataFrame\n",
      "\n",
      "See the caveats in the documentation: http://pandas.pydata.org/pandas-docs/stable/indexing.html#indexing-view-versus-copy\n",
      "  self._update_inplace(new_data)\n",
      "/opt/conda/lib/python3.6/site-packages/ipykernel_launcher.py:69: SettingWithCopyWarning: \n",
      "A value is trying to be set on a copy of a slice from a DataFrame.\n",
      "Try using .loc[row_indexer,col_indexer] = value instead\n",
      "\n",
      "See the caveats in the documentation: http://pandas.pydata.org/pandas-docs/stable/indexing.html#indexing-view-versus-copy\n",
      "/opt/conda/lib/python3.6/site-packages/ipykernel_launcher.py:76: SettingWithCopyWarning: \n",
      "A value is trying to be set on a copy of a slice from a DataFrame.\n",
      "Try using .loc[row_indexer,col_indexer] = value instead\n",
      "\n",
      "See the caveats in the documentation: http://pandas.pydata.org/pandas-docs/stable/indexing.html#indexing-view-versus-copy\n",
      "/opt/conda/lib/python3.6/site-packages/pandas/core/indexing.py:543: SettingWithCopyWarning: \n",
      "A value is trying to be set on a copy of a slice from a DataFrame.\n",
      "Try using .loc[row_indexer,col_indexer] = value instead\n",
      "\n",
      "See the caveats in the documentation: http://pandas.pydata.org/pandas-docs/stable/indexing.html#indexing-view-versus-copy\n",
      "  self.obj[item] = s\n",
      "/opt/conda/lib/python3.6/site-packages/ipykernel_launcher.py:80: SettingWithCopyWarning: \n",
      "A value is trying to be set on a copy of a slice from a DataFrame.\n",
      "Try using .loc[row_indexer,col_indexer] = value instead\n",
      "\n",
      "See the caveats in the documentation: http://pandas.pydata.org/pandas-docs/stable/indexing.html#indexing-view-versus-copy\n",
      "/opt/conda/lib/python3.6/site-packages/ipykernel_launcher.py:91: SettingWithCopyWarning: \n",
      "A value is trying to be set on a copy of a slice from a DataFrame.\n",
      "Try using .loc[row_indexer,col_indexer] = value instead\n",
      "\n",
      "See the caveats in the documentation: http://pandas.pydata.org/pandas-docs/stable/indexing.html#indexing-view-versus-copy\n",
      "/opt/conda/lib/python3.6/site-packages/ipykernel_launcher.py:94: SettingWithCopyWarning: \n",
      "A value is trying to be set on a copy of a slice from a DataFrame.\n",
      "Try using .loc[row_indexer,col_indexer] = value instead\n",
      "\n",
      "See the caveats in the documentation: http://pandas.pydata.org/pandas-docs/stable/indexing.html#indexing-view-versus-copy\n"
     ]
    },
    {
     "name": "stdout",
     "output_type": "stream",
     "text": [
      "New shape D : (134245, 347)\n"
     ]
    },
    {
     "data": {
      "text/html": [
       "<div>\n",
       "<style scoped>\n",
       "    .dataframe tbody tr th:only-of-type {\n",
       "        vertical-align: middle;\n",
       "    }\n",
       "\n",
       "    .dataframe tbody tr th {\n",
       "        vertical-align: top;\n",
       "    }\n",
       "\n",
       "    .dataframe thead th {\n",
       "        text-align: right;\n",
       "    }\n",
       "</style>\n",
       "<table border=\"1\" class=\"dataframe\">\n",
       "  <thead>\n",
       "    <tr style=\"text-align: right;\">\n",
       "      <th></th>\n",
       "      <th>LNR</th>\n",
       "      <th>AGER_TYP</th>\n",
       "      <th>AKT_DAT_KL</th>\n",
       "      <th>ALTER_HH</th>\n",
       "      <th>ANZ_HAUSHALTE_AKTIV</th>\n",
       "      <th>ANZ_HH_TITEL</th>\n",
       "      <th>ANZ_KINDER</th>\n",
       "      <th>ANZ_PERSONEN</th>\n",
       "      <th>ANZ_STATISTISCHE_HAUSHALTE</th>\n",
       "      <th>ANZ_TITEL</th>\n",
       "      <th>...</th>\n",
       "      <th>W_KEIT_KIND_HH</th>\n",
       "      <th>WOHNDAUER_2008</th>\n",
       "      <th>WOHNLAGE</th>\n",
       "      <th>ZABEOTYP</th>\n",
       "      <th>ANREDE_KZ</th>\n",
       "      <th>ALTERSKATEGORIE_GROB</th>\n",
       "      <th>MOVEMENT</th>\n",
       "      <th>DECADE</th>\n",
       "      <th>WEALTH</th>\n",
       "      <th>LIFE_STAGE</th>\n",
       "    </tr>\n",
       "  </thead>\n",
       "  <tbody>\n",
       "    <tr>\n",
       "      <th>0</th>\n",
       "      <td>9626</td>\n",
       "      <td>2.0</td>\n",
       "      <td>1.0</td>\n",
       "      <td>10.0</td>\n",
       "      <td>1.0</td>\n",
       "      <td>0.0</td>\n",
       "      <td>0.0</td>\n",
       "      <td>2.0</td>\n",
       "      <td>1.0</td>\n",
       "      <td>0.0</td>\n",
       "      <td>...</td>\n",
       "      <td>6.0</td>\n",
       "      <td>9.0</td>\n",
       "      <td>7.0</td>\n",
       "      <td>3</td>\n",
       "      <td>1</td>\n",
       "      <td>4</td>\n",
       "      <td>0.0</td>\n",
       "      <td>2.0</td>\n",
       "      <td>1.0</td>\n",
       "      <td>3.0</td>\n",
       "    </tr>\n",
       "    <tr>\n",
       "      <th>2</th>\n",
       "      <td>143872</td>\n",
       "      <td>NaN</td>\n",
       "      <td>1.0</td>\n",
       "      <td>6.0</td>\n",
       "      <td>1.0</td>\n",
       "      <td>0.0</td>\n",
       "      <td>0.0</td>\n",
       "      <td>1.0</td>\n",
       "      <td>1.0</td>\n",
       "      <td>0.0</td>\n",
       "      <td>...</td>\n",
       "      <td>6.0</td>\n",
       "      <td>9.0</td>\n",
       "      <td>2.0</td>\n",
       "      <td>3</td>\n",
       "      <td>2</td>\n",
       "      <td>4</td>\n",
       "      <td>0.0</td>\n",
       "      <td>2.0</td>\n",
       "      <td>3.0</td>\n",
       "      <td>4.0</td>\n",
       "    </tr>\n",
       "    <tr>\n",
       "      <th>3</th>\n",
       "      <td>143873</td>\n",
       "      <td>1.0</td>\n",
       "      <td>1.0</td>\n",
       "      <td>8.0</td>\n",
       "      <td>0.0</td>\n",
       "      <td>NaN</td>\n",
       "      <td>0.0</td>\n",
       "      <td>0.0</td>\n",
       "      <td>1.0</td>\n",
       "      <td>0.0</td>\n",
       "      <td>...</td>\n",
       "      <td>NaN</td>\n",
       "      <td>9.0</td>\n",
       "      <td>7.0</td>\n",
       "      <td>1</td>\n",
       "      <td>1</td>\n",
       "      <td>4</td>\n",
       "      <td>1.0</td>\n",
       "      <td>1.0</td>\n",
       "      <td>2.0</td>\n",
       "      <td>4.0</td>\n",
       "    </tr>\n",
       "    <tr>\n",
       "      <th>4</th>\n",
       "      <td>143874</td>\n",
       "      <td>NaN</td>\n",
       "      <td>1.0</td>\n",
       "      <td>20.0</td>\n",
       "      <td>7.0</td>\n",
       "      <td>0.0</td>\n",
       "      <td>0.0</td>\n",
       "      <td>4.0</td>\n",
       "      <td>7.0</td>\n",
       "      <td>0.0</td>\n",
       "      <td>...</td>\n",
       "      <td>2.0</td>\n",
       "      <td>9.0</td>\n",
       "      <td>3.0</td>\n",
       "      <td>1</td>\n",
       "      <td>1</td>\n",
       "      <td>3</td>\n",
       "      <td>1.0</td>\n",
       "      <td>4.0</td>\n",
       "      <td>4.0</td>\n",
       "      <td>1.0</td>\n",
       "    </tr>\n",
       "    <tr>\n",
       "      <th>5</th>\n",
       "      <td>143888</td>\n",
       "      <td>1.0</td>\n",
       "      <td>1.0</td>\n",
       "      <td>11.0</td>\n",
       "      <td>1.0</td>\n",
       "      <td>0.0</td>\n",
       "      <td>0.0</td>\n",
       "      <td>2.0</td>\n",
       "      <td>1.0</td>\n",
       "      <td>0.0</td>\n",
       "      <td>...</td>\n",
       "      <td>6.0</td>\n",
       "      <td>9.0</td>\n",
       "      <td>1.0</td>\n",
       "      <td>2</td>\n",
       "      <td>1</td>\n",
       "      <td>3</td>\n",
       "      <td>0.0</td>\n",
       "      <td>2.0</td>\n",
       "      <td>3.0</td>\n",
       "      <td>4.0</td>\n",
       "    </tr>\n",
       "  </tbody>\n",
       "</table>\n",
       "<p>5 rows × 347 columns</p>\n",
       "</div>"
      ],
      "text/plain": [
       "      LNR  AGER_TYP  AKT_DAT_KL  ALTER_HH  ANZ_HAUSHALTE_AKTIV  ANZ_HH_TITEL  \\\n",
       "0    9626       2.0         1.0      10.0                  1.0           0.0   \n",
       "2  143872       NaN         1.0       6.0                  1.0           0.0   \n",
       "3  143873       1.0         1.0       8.0                  0.0           NaN   \n",
       "4  143874       NaN         1.0      20.0                  7.0           0.0   \n",
       "5  143888       1.0         1.0      11.0                  1.0           0.0   \n",
       "\n",
       "   ANZ_KINDER  ANZ_PERSONEN  ANZ_STATISTISCHE_HAUSHALTE  ANZ_TITEL  \\\n",
       "0         0.0           2.0                         1.0        0.0   \n",
       "2         0.0           1.0                         1.0        0.0   \n",
       "3         0.0           0.0                         1.0        0.0   \n",
       "4         0.0           4.0                         7.0        0.0   \n",
       "5         0.0           2.0                         1.0        0.0   \n",
       "\n",
       "      ...      W_KEIT_KIND_HH  WOHNDAUER_2008  WOHNLAGE  ZABEOTYP  ANREDE_KZ  \\\n",
       "0     ...                 6.0             9.0       7.0         3          1   \n",
       "2     ...                 6.0             9.0       2.0         3          2   \n",
       "3     ...                 NaN             9.0       7.0         1          1   \n",
       "4     ...                 2.0             9.0       3.0         1          1   \n",
       "5     ...                 6.0             9.0       1.0         2          1   \n",
       "\n",
       "   ALTERSKATEGORIE_GROB  MOVEMENT  DECADE  WEALTH  LIFE_STAGE  \n",
       "0                     4       0.0     2.0     1.0         3.0  \n",
       "2                     4       0.0     2.0     3.0         4.0  \n",
       "3                     4       1.0     1.0     2.0         4.0  \n",
       "4                     3       1.0     4.0     4.0         1.0  \n",
       "5                     3       0.0     2.0     3.0         4.0  \n",
       "\n",
       "[5 rows x 347 columns]"
      ]
     },
     "execution_count": 20,
     "metadata": {},
     "output_type": "execute_result"
    }
   ],
   "source": [
    "# Load in the customer demographics data, remove extra columns and clean it\n",
    "customers = pd.read_csv('../../data/Term2/capstone/arvato_data/Udacity_CUSTOMERS_052018.csv', sep=';')\n",
    "\n",
    "customers.drop(columns=['CUSTOMER_GROUP', 'ONLINE_PURCHASE',\n",
    "                    'PRODUCT_GROUP'], axis=1, inplace=True)\n",
    "\n",
    "customers_clean = clean_data(customers, attributes)\n",
    "\n",
    "customers_clean.head()"
   ]
  },
  {
   "cell_type": "code",
   "execution_count": 21,
   "metadata": {},
   "outputs": [],
   "source": [
    "customers_scaled = scaler.transform(imp.transform(customers_clean))"
   ]
  },
  {
   "cell_type": "markdown",
   "metadata": {},
   "source": [
    "### Step 3.3: Compare Customer Data to Demographics Data"
   ]
  },
  {
   "cell_type": "code",
   "execution_count": 22,
   "metadata": {},
   "outputs": [],
   "source": [
    "customers_cat = kmodel.predict(pca.transform(customers_scaled[0:100000]))\n",
    "azdias_cat = kmodel.predict(pca.transform(azdias_scaled[0:100000]))"
   ]
  },
  {
   "cell_type": "code",
   "execution_count": 23,
   "metadata": {},
   "outputs": [
    {
     "data": {
      "text/plain": [
       "<matplotlib.legend.Legend at 0x7fddeecc78d0>"
      ]
     },
     "execution_count": 23,
     "metadata": {},
     "output_type": "execute_result"
    },
    {
     "data": {
      "image/png": "[encoded data removed]",
      "text/plain": [
       "<matplotlib.figure.Figure at 0x7fddeecc7eb8>"
      ]
     },
     "metadata": {
      "needs_background": "light"
     },
     "output_type": "display_data"
    }
   ],
   "source": [
    "plt.hist([customers_cat,azdias_cat],bins=6)\n",
    "plt.legend(['Customers','Population'])"
   ]
  },
  {
   "cell_type": "markdown",
   "metadata": {},
   "source": [
    "### Discussion\n",
    "Group 0, 1 and 5 seems tends to group people that are not customers, where as group 2,3,4 higher proportion of customers. Group 2 is a bit uncertain. Let's the top weighted features of each of them."
   ]
  },
  {
   "cell_type": "code",
   "execution_count": 24,
   "metadata": {},
   "outputs": [],
   "source": [
    "def sortFeaturesWeight(full_dataset, pca, i):\n",
    "    # Dimension indexing\n",
    "    dimensions = dimensions = ['Dimension {}'.format(i) for i in range(1,len(pca.components_)+1)]\n",
    "\n",
    "    # PCA components\n",
    "    components = pd.DataFrame(np.round(pca.components_, 4), columns = full_dataset.keys())\n",
    "    components.index = dimensions\n",
    "        \n",
    "    # PCA explained variance\n",
    "    ratios = pca.explained_variance_ratio_.reshape(len(pca.components_), 1)\n",
    "    variance_ratios = pd.DataFrame(np.round(ratios, 4), columns = ['Explained Variance'])\n",
    "    variance_ratios.index = dimensions\n",
    "    \n",
    "    # Return a dataframe with features weight for the dimension i of the pca\n",
    "    return components.iloc[i].sort_values()"
   ]
  },
  {
   "cell_type": "code",
   "execution_count": 25,
   "metadata": {
    "scrolled": true
   },
   "outputs": [
    {
     "name": "stdout",
     "output_type": "stream",
     "text": [
      "33\n",
      "['KBA13_SITZE_4', 'KBA13_ANTG4', 'SEMIO_RAT', 'SEMIO_DOM', 'KBA13_HALTER_25', 'KBA13_KW_0_60', 'PLZ8_BAUMAX', 'PLZ8_ANTG4', 'CJT_TYP_6', 'CJT_TYP_5', 'D19_GESAMT_ONLINE_DATUM', 'SHOPPER_TYP', 'OST_WEST_KZ', 'SEMIO_KAEM', 'KBA13_KMH_180', 'KBA13_KMH_140_210', 'KBA13_BJ_2000', 'ALTERSKATEGORIE_GROB', 'FINANZ_VORSORGER', 'CAMEO_DEUG_2015', 'CJT_TYP_3', 'KBA13_SITZE_5', 'KBA13_CCM_0_1400', 'KBA13_KMH_140', 'CJT_TYP_4', 'SEMIO_KRIT', 'ANREDE_KZ', 'KBA13_SEG_KLEINWAGEN', 'KBA13_SEG_KOMPAKTKLASSE', 'PLZ8_ANTG3', 'KBA13_ANTG3', 'SEMIO_ERL', 'KBA13_BAUMAX']\n"
     ]
    }
   ],
   "source": [
    "# Return top 5 correlated and top 5 anti correlated features of every k value. \n",
    "top_feat = []\n",
    "for i in [0,1,2,4,5]:\n",
    "    sorted_feat = sortFeaturesWeight(azdias_clean.iloc[0:100000], pca300,i)\n",
    "    top_feat.extend(list(sorted_feat[0:7].index)+list(sorted_feat[0:7].index))\n",
    "\n",
    "top_feat = list(set(top_feat))\n",
    "print(len(top_feat))\n",
    "print(top_feat)"
   ]
  },
  {
   "cell_type": "markdown",
   "metadata": {},
   "source": [
    "### Discussion\n",
    "Now that I have found the 33 features that seem to be most correlated or anti-correlated to distinguish general population from customers, I would like to try these 33 features in a machine learning model. Random foreast seem to be particularly well adapted to establish rules (trees) amongst 33 variables."
   ]
  },
  {
   "cell_type": "markdown",
   "metadata": {},
   "source": [
    "## Part 2: Supervised Learning Model\n",
    "\n",
    "Now that you've found which parts of the population are more likely to be customers of the mail-order company, it's time to build a prediction model. Each of the rows in the \"MAILOUT\" data files represents an individual that was targeted for a mailout campaign. Ideally, we should be able to use the demographic information from each individual to decide whether or not it will be worth it to include that person in the campaign.\n",
    "\n",
    "The \"MAILOUT\" data has been split into two approximately equal parts, each with almost 43 000 data rows. In this part, you can verify your model with the \"TRAIN\" partition, which includes a column, \"RESPONSE\", that states whether or not a person became a customer of the company following the campaign. In the next part, you'll need to create predictions on the \"TEST\" partition, where the \"RESPONSE\" column has been withheld."
   ]
  },
  {
   "cell_type": "code",
   "execution_count": 33,
   "metadata": {
    "scrolled": true
   },
   "outputs": [
    {
     "name": "stderr",
     "output_type": "stream",
     "text": [
      "/opt/conda/lib/python3.6/site-packages/IPython/core/interactiveshell.py:2785: DtypeWarning: Columns (18,19) have mixed types. Specify dtype option on import or set low_memory=False.\n",
      "  interactivity=interactivity, compiler=compiler, result=result)\n"
     ]
    }
   ],
   "source": [
    "mailout_train = pd.read_csv('../../data/Term2/capstone/arvato_data/Udacity_MAILOUT_052018_TRAIN.csv', sep=';')"
   ]
  },
  {
   "cell_type": "code",
   "execution_count": 34,
   "metadata": {
    "scrolled": false
   },
   "outputs": [
    {
     "data": {
      "text/html": [
       "<div>\n",
       "<style scoped>\n",
       "    .dataframe tbody tr th:only-of-type {\n",
       "        vertical-align: middle;\n",
       "    }\n",
       "\n",
       "    .dataframe tbody tr th {\n",
       "        vertical-align: top;\n",
       "    }\n",
       "\n",
       "    .dataframe thead th {\n",
       "        text-align: right;\n",
       "    }\n",
       "</style>\n",
       "<table border=\"1\" class=\"dataframe\">\n",
       "  <thead>\n",
       "    <tr style=\"text-align: right;\">\n",
       "      <th></th>\n",
       "      <th>LNR</th>\n",
       "      <th>AGER_TYP</th>\n",
       "      <th>AKT_DAT_KL</th>\n",
       "      <th>ALTER_HH</th>\n",
       "      <th>ALTER_KIND1</th>\n",
       "      <th>ALTER_KIND2</th>\n",
       "      <th>ALTER_KIND3</th>\n",
       "      <th>ALTER_KIND4</th>\n",
       "      <th>ALTERSKATEGORIE_FEIN</th>\n",
       "      <th>ANZ_HAUSHALTE_AKTIV</th>\n",
       "      <th>...</th>\n",
       "      <th>VK_DHT4A</th>\n",
       "      <th>VK_DISTANZ</th>\n",
       "      <th>VK_ZG11</th>\n",
       "      <th>W_KEIT_KIND_HH</th>\n",
       "      <th>WOHNDAUER_2008</th>\n",
       "      <th>WOHNLAGE</th>\n",
       "      <th>ZABEOTYP</th>\n",
       "      <th>RESPONSE</th>\n",
       "      <th>ANREDE_KZ</th>\n",
       "      <th>ALTERSKATEGORIE_GROB</th>\n",
       "    </tr>\n",
       "  </thead>\n",
       "  <tbody>\n",
       "    <tr>\n",
       "      <th>0</th>\n",
       "      <td>1763</td>\n",
       "      <td>2</td>\n",
       "      <td>1.0</td>\n",
       "      <td>8.0</td>\n",
       "      <td>NaN</td>\n",
       "      <td>NaN</td>\n",
       "      <td>NaN</td>\n",
       "      <td>NaN</td>\n",
       "      <td>8.0</td>\n",
       "      <td>15.0</td>\n",
       "      <td>...</td>\n",
       "      <td>5.0</td>\n",
       "      <td>2.0</td>\n",
       "      <td>1.0</td>\n",
       "      <td>6.0</td>\n",
       "      <td>9.0</td>\n",
       "      <td>3.0</td>\n",
       "      <td>3</td>\n",
       "      <td>0</td>\n",
       "      <td>2</td>\n",
       "      <td>4</td>\n",
       "    </tr>\n",
       "    <tr>\n",
       "      <th>1</th>\n",
       "      <td>1771</td>\n",
       "      <td>1</td>\n",
       "      <td>4.0</td>\n",
       "      <td>13.0</td>\n",
       "      <td>NaN</td>\n",
       "      <td>NaN</td>\n",
       "      <td>NaN</td>\n",
       "      <td>NaN</td>\n",
       "      <td>13.0</td>\n",
       "      <td>1.0</td>\n",
       "      <td>...</td>\n",
       "      <td>1.0</td>\n",
       "      <td>2.0</td>\n",
       "      <td>1.0</td>\n",
       "      <td>4.0</td>\n",
       "      <td>9.0</td>\n",
       "      <td>7.0</td>\n",
       "      <td>1</td>\n",
       "      <td>0</td>\n",
       "      <td>2</td>\n",
       "      <td>3</td>\n",
       "    </tr>\n",
       "    <tr>\n",
       "      <th>2</th>\n",
       "      <td>1776</td>\n",
       "      <td>1</td>\n",
       "      <td>1.0</td>\n",
       "      <td>9.0</td>\n",
       "      <td>NaN</td>\n",
       "      <td>NaN</td>\n",
       "      <td>NaN</td>\n",
       "      <td>NaN</td>\n",
       "      <td>7.0</td>\n",
       "      <td>0.0</td>\n",
       "      <td>...</td>\n",
       "      <td>6.0</td>\n",
       "      <td>4.0</td>\n",
       "      <td>2.0</td>\n",
       "      <td>NaN</td>\n",
       "      <td>9.0</td>\n",
       "      <td>2.0</td>\n",
       "      <td>3</td>\n",
       "      <td>0</td>\n",
       "      <td>1</td>\n",
       "      <td>4</td>\n",
       "    </tr>\n",
       "    <tr>\n",
       "      <th>3</th>\n",
       "      <td>1460</td>\n",
       "      <td>2</td>\n",
       "      <td>1.0</td>\n",
       "      <td>6.0</td>\n",
       "      <td>NaN</td>\n",
       "      <td>NaN</td>\n",
       "      <td>NaN</td>\n",
       "      <td>NaN</td>\n",
       "      <td>6.0</td>\n",
       "      <td>4.0</td>\n",
       "      <td>...</td>\n",
       "      <td>8.0</td>\n",
       "      <td>11.0</td>\n",
       "      <td>11.0</td>\n",
       "      <td>6.0</td>\n",
       "      <td>9.0</td>\n",
       "      <td>1.0</td>\n",
       "      <td>3</td>\n",
       "      <td>0</td>\n",
       "      <td>2</td>\n",
       "      <td>4</td>\n",
       "    </tr>\n",
       "    <tr>\n",
       "      <th>4</th>\n",
       "      <td>1783</td>\n",
       "      <td>2</td>\n",
       "      <td>1.0</td>\n",
       "      <td>9.0</td>\n",
       "      <td>NaN</td>\n",
       "      <td>NaN</td>\n",
       "      <td>NaN</td>\n",
       "      <td>NaN</td>\n",
       "      <td>9.0</td>\n",
       "      <td>53.0</td>\n",
       "      <td>...</td>\n",
       "      <td>2.0</td>\n",
       "      <td>2.0</td>\n",
       "      <td>1.0</td>\n",
       "      <td>6.0</td>\n",
       "      <td>9.0</td>\n",
       "      <td>3.0</td>\n",
       "      <td>3</td>\n",
       "      <td>0</td>\n",
       "      <td>1</td>\n",
       "      <td>3</td>\n",
       "    </tr>\n",
       "  </tbody>\n",
       "</table>\n",
       "<p>5 rows × 367 columns</p>\n",
       "</div>"
      ],
      "text/plain": [
       "    LNR  AGER_TYP  AKT_DAT_KL  ALTER_HH  ALTER_KIND1  ALTER_KIND2  \\\n",
       "0  1763         2         1.0       8.0          NaN          NaN   \n",
       "1  1771         1         4.0      13.0          NaN          NaN   \n",
       "2  1776         1         1.0       9.0          NaN          NaN   \n",
       "3  1460         2         1.0       6.0          NaN          NaN   \n",
       "4  1783         2         1.0       9.0          NaN          NaN   \n",
       "\n",
       "   ALTER_KIND3  ALTER_KIND4  ALTERSKATEGORIE_FEIN  ANZ_HAUSHALTE_AKTIV  \\\n",
       "0          NaN          NaN                   8.0                 15.0   \n",
       "1          NaN          NaN                  13.0                  1.0   \n",
       "2          NaN          NaN                   7.0                  0.0   \n",
       "3          NaN          NaN                   6.0                  4.0   \n",
       "4          NaN          NaN                   9.0                 53.0   \n",
       "\n",
       "          ...           VK_DHT4A  VK_DISTANZ  VK_ZG11  W_KEIT_KIND_HH  \\\n",
       "0         ...                5.0         2.0      1.0             6.0   \n",
       "1         ...                1.0         2.0      1.0             4.0   \n",
       "2         ...                6.0         4.0      2.0             NaN   \n",
       "3         ...                8.0        11.0     11.0             6.0   \n",
       "4         ...                2.0         2.0      1.0             6.0   \n",
       "\n",
       "   WOHNDAUER_2008  WOHNLAGE  ZABEOTYP RESPONSE ANREDE_KZ ALTERSKATEGORIE_GROB  \n",
       "0             9.0       3.0         3        0         2                    4  \n",
       "1             9.0       7.0         1        0         2                    3  \n",
       "2             9.0       2.0         3        0         1                    4  \n",
       "3             9.0       1.0         3        0         2                    4  \n",
       "4             9.0       3.0         3        0         1                    3  \n",
       "\n",
       "[5 rows x 367 columns]"
      ]
     },
     "execution_count": 34,
     "metadata": {},
     "output_type": "execute_result"
    }
   ],
   "source": [
    "mailout_train.head()"
   ]
  },
  {
   "cell_type": "code",
   "execution_count": 36,
   "metadata": {},
   "outputs": [
    {
     "data": {
      "text/plain": [
       "Text(0,0.5,'Number of entries')"
      ]
     },
     "execution_count": 36,
     "metadata": {},
     "output_type": "execute_result"
    },
    {
     "data": {
      "image/png": "[encoded data removed]",
      "text/plain": [
       "<matplotlib.figure.Figure at 0x7fdd528b5198>"
      ]
     },
     "metadata": {
      "needs_background": "light"
     },
     "output_type": "display_data"
    }
   ],
   "source": [
    "# Look at the distribution of the RESPONSE from customers\n",
    "mailout_train['RESPONSE'].value_counts().plot(kind='bar')\n",
    "plt.title('Distribution of responses')\n",
    "plt.xlabel('RESPONSE')\n",
    "plt.ylabel('Number of entries')"
   ]
  },
  {
   "cell_type": "code",
   "execution_count": 37,
   "metadata": {},
   "outputs": [
    {
     "data": {
      "text/plain": [
       "(42962,)"
      ]
     },
     "execution_count": 37,
     "metadata": {},
     "output_type": "execute_result"
    }
   ],
   "source": [
    "# Make the RESPONSE column the target\n",
    "target_train = mailout_train['RESPONSE']\n",
    "target_train.shape"
   ]
  },
  {
   "cell_type": "code",
   "execution_count": 38,
   "metadata": {},
   "outputs": [],
   "source": [
    "# Drop RESPONSE columns for training\n",
    "inputs_train = mailout_train.drop(columns=['RESPONSE'])"
   ]
  },
  {
   "cell_type": "code",
   "execution_count": 39,
   "metadata": {
    "scrolled": false
   },
   "outputs": [
    {
     "name": "stdout",
     "output_type": "stream",
     "text": [
      "Entering shape A : (42962, 366)\n",
      "Starting replacing nan values\n",
      "BIP_FLAG is surpisingly not found in df.\n",
      "CAMEO_DEUINTL_2015 is surpisingly not found in df.\n",
      "D19_KK_KUNDENTYP is surpisingly not found in df.\n",
      "GEOSCORE_KLS7 is surpisingly not found in df.\n",
      "HAUSHALTSSTRUKTUR is surpisingly not found in df.\n",
      "KBA13_CCM_1400_2500 is surpisingly not found in df.\n",
      "SOHO_FLAG is surpisingly not found in df.\n",
      "WACHSTUMSGEBIET_NB is surpisingly not found in df.\n",
      "New shape D : (42962, 347)\n"
     ]
    },
    {
     "data": {
      "text/plain": [
       "(42962, 347)"
      ]
     },
     "execution_count": 39,
     "metadata": {},
     "output_type": "execute_result"
    }
   ],
   "source": [
    "# Clean training data (last input as 0, means we do not want to remove rows with too many nan values)\n",
    "inputs_train_clean = clean_data(inputs_train,attributes,0)\n",
    "inputs_train_clean.shape"
   ]
  },
  {
   "cell_type": "code",
   "execution_count": 40,
   "metadata": {},
   "outputs": [],
   "source": [
    "# Index of the top features in the training dataset\n",
    "idx_top_feat = []\n",
    "for feat in top_feat:\n",
    "    idx_top_feat.append(list(inputs_train_clean.columns).index(feat))"
   ]
  },
  {
   "cell_type": "code",
   "execution_count": 41,
   "metadata": {},
   "outputs": [
    {
     "data": {
      "text/plain": [
       "(42962, 33)"
      ]
     },
     "execution_count": 41,
     "metadata": {},
     "output_type": "execute_result"
    }
   ],
   "source": [
    "# Impute data for nan values. Scaling the data is not necessary for the RandomForest classifier.\n",
    "inputs_train_clean = imp.transform(inputs_train_clean)\n",
    "# Only columns of top features are kept for training\n",
    "inputs_train_clean = inputs_train_clean[:,idx_top_feat]\n",
    "inputs_train_clean.shape"
   ]
  },
  {
   "cell_type": "code",
   "execution_count": 45,
   "metadata": {},
   "outputs": [],
   "source": [
    "# Divide the TRAIN set into training and validation to validate our model\n",
    "X_train, X_valid, y_train, y_valid = train_test_split(\n",
    "    inputs_train_clean, target_train, test_size=0.33, random_state=42)"
   ]
  },
  {
   "cell_type": "code",
   "execution_count": 46,
   "metadata": {},
   "outputs": [],
   "source": [
    "model = RandomForestClassifier(random_state=42)"
   ]
  },
  {
   "cell_type": "code",
   "execution_count": 47,
   "metadata": {},
   "outputs": [
    {
     "data": {
      "text/plain": [
       "RandomForestClassifier(bootstrap=True, class_weight=None, criterion='gini',\n",
       "            max_depth=None, max_features='auto', max_leaf_nodes=None,\n",
       "            min_impurity_decrease=0.0, min_impurity_split=None,\n",
       "            min_samples_leaf=1, min_samples_split=2,\n",
       "            min_weight_fraction_leaf=0.0, n_estimators=10, n_jobs=1,\n",
       "            oob_score=False, random_state=42, verbose=0, warm_start=False)"
      ]
     },
     "execution_count": 47,
     "metadata": {},
     "output_type": "execute_result"
    }
   ],
   "source": [
    "model.fit(X_train, y_train)"
   ]
  },
  {
   "cell_type": "code",
   "execution_count": 48,
   "metadata": {},
   "outputs": [
    {
     "data": {
      "text/plain": [
       "<bound method BaseEstimator.get_params of RandomForestClassifier(bootstrap=True, class_weight=None, criterion='gini',\n",
       "            max_depth=None, max_features='auto', max_leaf_nodes=None,\n",
       "            min_impurity_decrease=0.0, min_impurity_split=None,\n",
       "            min_samples_leaf=1, min_samples_split=2,\n",
       "            min_weight_fraction_leaf=0.0, n_estimators=10, n_jobs=1,\n",
       "            oob_score=False, random_state=42, verbose=0, warm_start=False)>"
      ]
     },
     "execution_count": 48,
     "metadata": {},
     "output_type": "execute_result"
    }
   ],
   "source": [
    "model.get_params"
   ]
  },
  {
   "cell_type": "code",
   "execution_count": 49,
   "metadata": {},
   "outputs": [],
   "source": [
    "pred_train = model.predict(X_train)\n",
    "pred_valid = model.predict(X_valid)"
   ]
  },
  {
   "cell_type": "code",
   "execution_count": 66,
   "metadata": {},
   "outputs": [
    {
     "data": {
      "text/plain": [
       "(array([ 0.99558777,  1.        ]),\n",
       " array([ 1.        ,  0.64305949]),\n",
       " array([ 0.99778901,  0.78275862]),\n",
       " array([28431,   353]))"
      ]
     },
     "execution_count": 66,
     "metadata": {},
     "output_type": "execute_result"
    }
   ],
   "source": [
    "# SCORES for train data : precision / recall / fscore / support\n",
    "precision_recall_fscore_support(y_true=y_train, y_pred=pred_train)"
   ]
  },
  {
   "cell_type": "code",
   "execution_count": 67,
   "metadata": {},
   "outputs": [
    {
     "data": {
      "text/plain": [
       "(array([ 0.98737392,  0.        ]),\n",
       " array([ 0.99992857,  0.        ]),\n",
       " array([ 0.99361158,  0.        ]),\n",
       " array([13999,   179]))"
      ]
     },
     "execution_count": 67,
     "metadata": {},
     "output_type": "execute_result"
    }
   ],
   "source": [
    "# SCORES for validation data : precision / recall / fscore / support\n",
    "precision_recall_fscore_support(y_true=y_valid, y_pred=pred_valid)"
   ]
  },
  {
   "cell_type": "code",
   "execution_count": 68,
   "metadata": {},
   "outputs": [],
   "source": [
    "# Use plot for the confusion matrix found on sklearn lib\n",
    "def plot_confusion_matrix(y_true, y_pred, classes,\n",
    "                          normalize=False,\n",
    "                          title=None,\n",
    "                          cmap=plt.cm.Blues):\n",
    "    \"\"\"\n",
    "    This function prints and plots the confusion matrix.\n",
    "    Normalization can be applied by setting `normalize=True`.\n",
    "    \"\"\"\n",
    "    if not title:\n",
    "        if normalize:\n",
    "            title = 'Normalized confusion matrix'\n",
    "        else:\n",
    "            title = 'Confusion matrix, without normalization'\n",
    "\n",
    "    # Compute confusion matrix\n",
    "    cm = confusion_matrix(y_true, y_pred)\n",
    "    # Only use the labels that appear in the data\n",
    "    classes = classes[unique_labels(y_true, y_pred)]\n",
    "    if normalize:\n",
    "        cm = cm.astype('float') / cm.sum(axis=1)[:, np.newaxis]\n",
    "        print(\"Normalized confusion matrix\")\n",
    "    else:\n",
    "        print('Confusion matrix, without normalization')\n",
    "\n",
    "    print(cm)\n",
    "\n",
    "    fig, ax = plt.subplots()\n",
    "    im = ax.imshow(cm, interpolation='nearest', cmap=cmap)\n",
    "    ax.figure.colorbar(im, ax=ax)\n",
    "    # We want to show all ticks...\n",
    "    ax.set(xticks=np.arange(cm.shape[1]),\n",
    "           yticks=np.arange(cm.shape[0]),\n",
    "           # ... and label them with the respective list entries\n",
    "           xticklabels=classes, yticklabels=classes,\n",
    "           title=title,\n",
    "           ylabel='True label',\n",
    "           xlabel='Predicted label')\n",
    "\n",
    "    # Rotate the tick labels and set their alignment.\n",
    "    plt.setp(ax.get_xticklabels(), rotation=45, ha=\"right\",\n",
    "             rotation_mode=\"anchor\")\n",
    "\n",
    "    # Loop over data dimensions and create text annotations.\n",
    "    fmt = '.2f' if normalize else 'd'\n",
    "    thresh = cm.max() / 2.\n",
    "    for i in range(cm.shape[0]):\n",
    "        for j in range(cm.shape[1]):\n",
    "            ax.text(j, i, format(cm[i, j], fmt),\n",
    "                    ha=\"center\", va=\"center\",\n",
    "                    color=\"white\" if cm[i, j] > thresh else \"black\")\n",
    "    fig.tight_layout()\n",
    "    return ax"
   ]
  },
  {
   "cell_type": "code",
   "execution_count": 69,
   "metadata": {
    "scrolled": true
   },
   "outputs": [
    {
     "name": "stdout",
     "output_type": "stream",
     "text": [
      "Normalized confusion matrix\n",
      "[[ 1.          0.        ]\n",
      " [ 0.35694051  0.64305949]]\n",
      "Normalized confusion matrix\n",
      "[[  9.99928566e-01   7.14336738e-05]\n",
      " [  1.00000000e+00   0.00000000e+00]]\n"
     ]
    },
    {
     "data": {
      "image/png": "[encoded data removed]",
      "text/plain": [
       "<matplotlib.figure.Figure at 0x7fdc824e9048>"
      ]
     },
     "metadata": {
      "needs_background": "light"
     },
     "output_type": "display_data"
    },
    {
     "data": {
      "image/png": "[encoded data removed]",
      "text/plain": [
       "<matplotlib.figure.Figure at 0x7fdc824e2a58>"
      ]
     },
     "metadata": {
      "needs_background": "light"
     },
     "output_type": "display_data"
    }
   ],
   "source": [
    "# Plot confusion matrix for training and validation sets\n",
    "plot_confusion_matrix(y_pred=pred_train,y_true=y_train,classes=np.array([0,1]),normalize=True,title='Training set')\n",
    "plot_confusion_matrix(y_pred=pred_valid,y_true=y_valid,classes=np.array([0,1]),normalize=True,title='Validation set')\n",
    "plt.show()"
   ]
  },
  {
   "cell_type": "markdown",
   "metadata": {},
   "source": [
    "### Discussion :\n",
    "Obviously and as expected the RESPONSE is very much imbalanced, because most of people did not reply to the mail campaign.  Therefore an accuracy test would not fit this exercise. We looked at recall, f1 and support. The kaggle competition use the ROC score for instance.\n",
    "\n",
    "We have plotted confusion matrices to understand the distribution of answers. Whereas sending e-mail and getting no response is okay, we want to have the True positive as high as possible, and avoid false negatives. In the latter case, it means we might have forgotten to send mails to people who would actually become members.\n",
    "\n",
    "Results : the results for training seemed promising with quite many True positives captured. However, as soon as we used the validation data, this number went almost to zero. \n",
    "\n",
    "Let's try to optimize the hyperparameters."
   ]
  },
  {
   "cell_type": "markdown",
   "metadata": {},
   "source": [
    "### 4.1 Hyperparameters optimization"
   ]
  },
  {
   "cell_type": "code",
   "execution_count": 70,
   "metadata": {},
   "outputs": [],
   "source": [
    "param_grid = {\n",
    "    'max_features': [2],\n",
    "    'min_samples_leaf': [3, 4],\n",
    "    'n_estimators': [10,30]\n",
    "}"
   ]
  },
  {
   "cell_type": "code",
   "execution_count": 71,
   "metadata": {},
   "outputs": [],
   "source": [
    "rf = RandomForestClassifier(random_state=42)"
   ]
  },
  {
   "cell_type": "code",
   "execution_count": 72,
   "metadata": {},
   "outputs": [],
   "source": [
    "grid_search = GridSearchCV(estimator = rf, param_grid = param_grid, verbose = 2)"
   ]
  },
  {
   "cell_type": "code",
   "execution_count": 73,
   "metadata": {},
   "outputs": [
    {
     "data": {
      "text/plain": [
       "((28784, 33), (42962,))"
      ]
     },
     "execution_count": 73,
     "metadata": {},
     "output_type": "execute_result"
    }
   ],
   "source": [
    "X_train.shape, target_train.shape"
   ]
  },
  {
   "cell_type": "code",
   "execution_count": 74,
   "metadata": {
    "collapsed": true
   },
   "outputs": [
    {
     "name": "stdout",
     "output_type": "stream",
     "text": [
      "Fitting 3 folds for each of 4 candidates, totalling 12 fits\n",
      "[CV] max_features=2, min_samples_leaf=3, n_estimators=10 .............\n",
      "[CV]  max_features=2, min_samples_leaf=3, n_estimators=10, total=   0.2s\n",
      "[CV] max_features=2, min_samples_leaf=3, n_estimators=10 .............\n"
     ]
    },
    {
     "name": "stderr",
     "output_type": "stream",
     "text": [
      "[Parallel(n_jobs=1)]: Done   1 out of   1 | elapsed:    0.2s remaining:    0.0s\n"
     ]
    },
    {
     "name": "stdout",
     "output_type": "stream",
     "text": [
      "[CV]  max_features=2, min_samples_leaf=3, n_estimators=10, total=   0.2s\n",
      "[CV] max_features=2, min_samples_leaf=3, n_estimators=10 .............\n",
      "[CV]  max_features=2, min_samples_leaf=3, n_estimators=10, total=   0.2s\n",
      "[CV] max_features=2, min_samples_leaf=3, n_estimators=30 .............\n",
      "[CV]  max_features=2, min_samples_leaf=3, n_estimators=30, total=   0.5s\n",
      "[CV] max_features=2, min_samples_leaf=3, n_estimators=30 .............\n",
      "[CV]  max_features=2, min_samples_leaf=3, n_estimators=30, total=   0.5s\n",
      "[CV] max_features=2, min_samples_leaf=3, n_estimators=30 .............\n",
      "[CV]  max_features=2, min_samples_leaf=3, n_estimators=30, total=   0.5s\n",
      "[CV] max_features=2, min_samples_leaf=4, n_estimators=10 .............\n",
      "[CV]  max_features=2, min_samples_leaf=4, n_estimators=10, total=   0.2s\n",
      "[CV] max_features=2, min_samples_leaf=4, n_estimators=10 .............\n",
      "[CV]  max_features=2, min_samples_leaf=4, n_estimators=10, total=   0.2s\n",
      "[CV] max_features=2, min_samples_leaf=4, n_estimators=10 .............\n",
      "[CV]  max_features=2, min_samples_leaf=4, n_estimators=10, total=   0.2s\n",
      "[CV] max_features=2, min_samples_leaf=4, n_estimators=30 .............\n",
      "[CV]  max_features=2, min_samples_leaf=4, n_estimators=30, total=   0.5s\n",
      "[CV] max_features=2, min_samples_leaf=4, n_estimators=30 .............\n",
      "[CV]  max_features=2, min_samples_leaf=4, n_estimators=30, total=   0.5s\n",
      "[CV] max_features=2, min_samples_leaf=4, n_estimators=30 .............\n",
      "[CV]  max_features=2, min_samples_leaf=4, n_estimators=30, total=   0.5s\n"
     ]
    },
    {
     "name": "stderr",
     "output_type": "stream",
     "text": [
      "[Parallel(n_jobs=1)]: Done  12 out of  12 | elapsed:    4.8s finished\n"
     ]
    },
    {
     "data": {
      "text/plain": [
       "GridSearchCV(cv=None, error_score='raise',\n",
       "       estimator=RandomForestClassifier(bootstrap=True, class_weight=None, criterion='gini',\n",
       "            max_depth=None, max_features='auto', max_leaf_nodes=None,\n",
       "            min_impurity_decrease=0.0, min_impurity_split=None,\n",
       "            min_samples_leaf=1, min_samples_split=2,\n",
       "            min_weight_fraction_leaf=0.0, n_estimators=10, n_jobs=1,\n",
       "            oob_score=False, random_state=42, verbose=0, warm_start=False),\n",
       "       fit_params=None, iid=True, n_jobs=1,\n",
       "       param_grid={'max_features': [2], 'min_samples_leaf': [3, 4], 'n_estimators': [10, 30]},\n",
       "       pre_dispatch='2*n_jobs', refit=True, return_train_score='warn',\n",
       "       scoring=None, verbose=2)"
      ]
     },
     "execution_count": 74,
     "metadata": {},
     "output_type": "execute_result"
    }
   ],
   "source": [
    "grid_search.fit(X_train, y_train)"
   ]
  },
  {
   "cell_type": "code",
   "execution_count": 75,
   "metadata": {},
   "outputs": [
    {
     "data": {
      "text/plain": [
       "{'max_features': 2, 'min_samples_leaf': 3, 'n_estimators': 10}"
      ]
     },
     "execution_count": 75,
     "metadata": {},
     "output_type": "execute_result"
    }
   ],
   "source": [
    "grid_search.best_params_"
   ]
  },
  {
   "cell_type": "code",
   "execution_count": 76,
   "metadata": {},
   "outputs": [],
   "source": [
    "pred_train_optim = grid_search.predict(X_train)\n",
    "pred_valid_optim = grid_search.predict(X_valid)"
   ]
  },
  {
   "cell_type": "code",
   "execution_count": 77,
   "metadata": {},
   "outputs": [
    {
     "name": "stderr",
     "output_type": "stream",
     "text": [
      "/opt/conda/lib/python3.6/site-packages/sklearn/metrics/classification.py:1135: UndefinedMetricWarning: Precision and F-score are ill-defined and being set to 0.0 in labels with no predicted samples.\n",
      "  'precision', 'predicted', average, warn_for)\n"
     ]
    },
    {
     "data": {
      "text/plain": [
       "(array([ 0.98773624,  0.        ]),\n",
       " array([ 1.,  0.]),\n",
       " array([ 0.99383029,  0.        ]),\n",
       " array([28431,   353]))"
      ]
     },
     "execution_count": 77,
     "metadata": {},
     "output_type": "execute_result"
    }
   ],
   "source": [
    "# SCORES for train data (optimized with gridSearch) : precision / recall / fscore / support\n",
    "precision_recall_fscore_support(y_true=y_train, y_pred=pred_train_optim)"
   ]
  },
  {
   "cell_type": "code",
   "execution_count": 79,
   "metadata": {},
   "outputs": [
    {
     "name": "stderr",
     "output_type": "stream",
     "text": [
      "/opt/conda/lib/python3.6/site-packages/sklearn/metrics/classification.py:1135: UndefinedMetricWarning: Precision and F-score are ill-defined and being set to 0.0 in labels with no predicted samples.\n",
      "  'precision', 'predicted', average, warn_for)\n"
     ]
    },
    {
     "data": {
      "text/plain": [
       "(array([ 0.98737481,  0.        ]),\n",
       " array([ 1.,  0.]),\n",
       " array([ 0.9936473,  0.       ]),\n",
       " array([13999,   179]))"
      ]
     },
     "execution_count": 79,
     "metadata": {},
     "output_type": "execute_result"
    }
   ],
   "source": [
    "# SCORES for validation data (optimized with gridSearch) : precision / recall / fscore / support\n",
    "precision_recall_fscore_support(y_true=y_valid, y_pred=pred_valid_optim)"
   ]
  },
  {
   "cell_type": "code",
   "execution_count": 80,
   "metadata": {},
   "outputs": [
    {
     "name": "stdout",
     "output_type": "stream",
     "text": [
      "Normalized confusion matrix\n",
      "[[ 1.  0.]\n",
      " [ 1.  0.]]\n",
      "Normalized confusion matrix\n",
      "[[ 1.  0.]\n",
      " [ 1.  0.]]\n"
     ]
    },
    {
     "data": {
      "image/png": "[encoded data removed]",
      "text/plain": [
       "<matplotlib.figure.Figure at 0x7fdc823aea20>"
      ]
     },
     "metadata": {
      "needs_background": "light"
     },
     "output_type": "display_data"
    },
    {
     "data": {
      "image/png": "[encoded data removed]",
      "text/plain": [
       "<matplotlib.figure.Figure at 0x7fdc8255de48>"
      ]
     },
     "metadata": {
      "needs_background": "light"
     },
     "output_type": "display_data"
    }
   ],
   "source": [
    "plot_confusion_matrix(y_pred=pred_train_optim,y_true=y_train,classes=np.array([0,1]),normalize=True, title='Training set')\n",
    "plot_confusion_matrix(y_pred=pred_valid_optim,y_true=y_valid,classes=np.array([0,1]),normalize=True, title='Validation set')\n",
    "plt.show()"
   ]
  },
  {
   "cell_type": "markdown",
   "metadata": {},
   "source": [
    "### Discussion : \n",
    "hyperparemeters optimization did not work at all. In fact, most of the scoring metrics (apart from accuracy) got worse, and we highlighted before that accuracy was not an appropriate scoring method for this imbalanced data set.\n",
    "\n",
    "In fact, the issue lies here in the training loss function. For RandomForestClassifiers, these are typically RMSE or MAE. But these will work best to increase accuracy.\n",
    "\n",
    "While it seems difficult to have a more complex training loss function for our classifier, we could try to use over-sampling of the minority class to counter balance the problem."
   ]
  },
  {
   "cell_type": "markdown",
   "metadata": {},
   "source": [
    "### 4.2 Over-sampling the minority class\n",
    "\n",
    "From library imblearn, which has severl techniques, we'll try RandomOverSampler"
   ]
  },
  {
   "cell_type": "code",
   "execution_count": 86,
   "metadata": {},
   "outputs": [],
   "source": [
    "# Resample X_train and y_train so that they have the same length\n",
    "ros = RandomOverSampler(random_state=0)\n",
    "X_resampled, y_resampled = ros.fit_resample(X_train, y_train)"
   ]
  },
  {
   "cell_type": "code",
   "execution_count": 88,
   "metadata": {},
   "outputs": [
    {
     "data": {
      "text/plain": [
       "((56862, 33), (56862,))"
      ]
     },
     "execution_count": 88,
     "metadata": {},
     "output_type": "execute_result"
    }
   ],
   "source": [
    "X_resampled.shape, y_resampled.shape"
   ]
  },
  {
   "cell_type": "code",
   "execution_count": 97,
   "metadata": {
    "collapsed": true
   },
   "outputs": [
    {
     "name": "stdout",
     "output_type": "stream",
     "text": [
      "Fitting 3 folds for each of 4 candidates, totalling 12 fits\n",
      "[CV] max_features=2, min_samples_leaf=3, n_estimators=10 .............\n",
      "[CV]  max_features=2, min_samples_leaf=3, n_estimators=10, total=   0.4s\n",
      "[CV] max_features=2, min_samples_leaf=3, n_estimators=10 .............\n"
     ]
    },
    {
     "name": "stderr",
     "output_type": "stream",
     "text": [
      "[Parallel(n_jobs=1)]: Done   1 out of   1 | elapsed:    0.4s remaining:    0.0s\n"
     ]
    },
    {
     "name": "stdout",
     "output_type": "stream",
     "text": [
      "[CV]  max_features=2, min_samples_leaf=3, n_estimators=10, total=   0.4s\n",
      "[CV] max_features=2, min_samples_leaf=3, n_estimators=10 .............\n",
      "[CV]  max_features=2, min_samples_leaf=3, n_estimators=10, total=   0.4s\n",
      "[CV] max_features=2, min_samples_leaf=3, n_estimators=30 .............\n",
      "[CV]  max_features=2, min_samples_leaf=3, n_estimators=30, total=   1.1s\n",
      "[CV] max_features=2, min_samples_leaf=3, n_estimators=30 .............\n",
      "[CV]  max_features=2, min_samples_leaf=3, n_estimators=30, total=   1.0s\n",
      "[CV] max_features=2, min_samples_leaf=3, n_estimators=30 .............\n",
      "[CV]  max_features=2, min_samples_leaf=3, n_estimators=30, total=   1.0s\n",
      "[CV] max_features=2, min_samples_leaf=4, n_estimators=10 .............\n",
      "[CV]  max_features=2, min_samples_leaf=4, n_estimators=10, total=   0.4s\n",
      "[CV] max_features=2, min_samples_leaf=4, n_estimators=10 .............\n",
      "[CV]  max_features=2, min_samples_leaf=4, n_estimators=10, total=   0.4s\n",
      "[CV] max_features=2, min_samples_leaf=4, n_estimators=10 .............\n",
      "[CV]  max_features=2, min_samples_leaf=4, n_estimators=10, total=   0.4s\n",
      "[CV] max_features=2, min_samples_leaf=4, n_estimators=30 .............\n",
      "[CV]  max_features=2, min_samples_leaf=4, n_estimators=30, total=   1.1s\n",
      "[CV] max_features=2, min_samples_leaf=4, n_estimators=30 .............\n",
      "[CV]  max_features=2, min_samples_leaf=4, n_estimators=30, total=   1.0s\n",
      "[CV] max_features=2, min_samples_leaf=4, n_estimators=30 .............\n",
      "[CV]  max_features=2, min_samples_leaf=4, n_estimators=30, total=   1.0s\n"
     ]
    },
    {
     "name": "stderr",
     "output_type": "stream",
     "text": [
      "[Parallel(n_jobs=1)]: Done  12 out of  12 | elapsed:    9.9s finished\n"
     ]
    },
    {
     "data": {
      "text/plain": [
       "GridSearchCV(cv=None, error_score='raise',\n",
       "       estimator=RandomForestClassifier(bootstrap=True, class_weight=None, criterion='gini',\n",
       "            max_depth=None, max_features='auto', max_leaf_nodes=None,\n",
       "            min_impurity_decrease=0.0, min_impurity_split=None,\n",
       "            min_samples_leaf=1, min_samples_split=2,\n",
       "            min_weight_fraction_leaf=0.0, n_estimators=10, n_jobs=1,\n",
       "            oob_score=False, random_state=42, verbose=0, warm_start=False),\n",
       "       fit_params=None, iid=True, n_jobs=1,\n",
       "       param_grid={'max_features': [2], 'min_samples_leaf': [3, 4], 'n_estimators': [10, 30]},\n",
       "       pre_dispatch='2*n_jobs', refit=True, return_train_score='warn',\n",
       "       scoring=None, verbose=2)"
      ]
     },
     "execution_count": 97,
     "metadata": {},
     "output_type": "execute_result"
    }
   ],
   "source": [
    "# Retrained a RandomForest Classifier with the balanced X and y\n",
    "rf = RandomForestClassifier(random_state=42)\n",
    "grid_search_ros = GridSearchCV(estimator = rf, param_grid = param_grid, verbose = 2)\n",
    "grid_search_ros.fit(X_resampled, y_resampled)"
   ]
  },
  {
   "cell_type": "code",
   "execution_count": 100,
   "metadata": {},
   "outputs": [],
   "source": [
    "pred_valid_ros = grid_search_ros.predict(X_valid)"
   ]
  },
  {
   "cell_type": "code",
   "execution_count": 101,
   "metadata": {
    "scrolled": true
   },
   "outputs": [
    {
     "data": {
      "text/plain": [
       "(array([ 0.98781522,  0.01734104]),\n",
       " array([ 0.91499393,  0.11731844]),\n",
       " array([ 0.95001113,  0.03021583]),\n",
       " array([13999,   179]))"
      ]
     },
     "execution_count": 101,
     "metadata": {},
     "output_type": "execute_result"
    }
   ],
   "source": [
    "# SCORES for validation data (optimized with gridSearch) : precision / recall / fscore / support\n",
    "precision_recall_fscore_support(y_true=y_valid, y_pred=pred_valid_ros)"
   ]
  },
  {
   "cell_type": "markdown",
   "metadata": {},
   "source": [
    "### Conclusion\n",
    "\n",
    "All metrics obtained for the second dimension (the 1) improved ! This is exactly what we wanted. It's a great sign that shows that over-sampling is a possible solution to be able to use RandomForest Classifier with imbalanced data. \n",
    "\n",
    "The scores are not yet very high, but it would be interesting to continue investigating hyperparameters optimization with the combined with the over-sampling method."
   ]
  },
  {
   "cell_type": "markdown",
   "metadata": {},
   "source": [
    "## Part 3: Kaggle Competition\n",
    "\n",
    "Now that you've created a model to predict which individuals are most likely to respond to a mailout campaign, it's time to test that model in competition through Kaggle. If you click on the link [here](http://www.kaggle.com/t/21e6d45d4c574c7fa2d868f0e8c83140), you'll be taken to the competition page where, if you have a Kaggle account, you can enter. If you're one of the top performers, you may have the chance to be contacted by a hiring manager from Arvato or Bertelsmann for an interview!\n",
    "\n",
    "Your entry to the competition should be a CSV file with two columns. The first column should be a copy of \"LNR\", which acts as an ID number for each individual in the \"TEST\" partition. The second column, \"RESPONSE\", should be some measure of how likely each individual became a customer – this might not be a straightforward probability. As you should have found in Part 2, there is a large output class imbalance, where most individuals did not respond to the mailout. Thus, predicting individual classes and using accuracy does not seem to be an appropriate performance evaluation method. Instead, the competition will be using AUC to evaluate performance. The exact values of the \"RESPONSE\" column do not matter as much: only that the higher values try to capture as many of the actual customers as possible, early in the ROC curve sweep."
   ]
  },
  {
   "cell_type": "code",
   "execution_count": 103,
   "metadata": {},
   "outputs": [
    {
     "name": "stderr",
     "output_type": "stream",
     "text": [
      "/opt/conda/lib/python3.6/site-packages/IPython/core/interactiveshell.py:2785: DtypeWarning: Columns (18,19) have mixed types. Specify dtype option on import or set low_memory=False.\n",
      "  interactivity=interactivity, compiler=compiler, result=result)\n"
     ]
    }
   ],
   "source": [
    "mailout_test = pd.read_csv('../../data/Term2/capstone/arvato_data/Udacity_MAILOUT_052018_TEST.csv', sep=';')"
   ]
  },
  {
   "cell_type": "code",
   "execution_count": 106,
   "metadata": {},
   "outputs": [],
   "source": [
    "df_kaggle = pd.DataFrame()\n",
    "df_kaggle['LNR'] = mailout_test['LNR']"
   ]
  },
  {
   "cell_type": "code",
   "execution_count": 104,
   "metadata": {},
   "outputs": [
    {
     "name": "stdout",
     "output_type": "stream",
     "text": [
      "Entering shape A : (42833, 366)\n",
      "Starting replacing nan values\n",
      "BIP_FLAG is surpisingly not found in df.\n",
      "CAMEO_DEUINTL_2015 is surpisingly not found in df.\n",
      "D19_KK_KUNDENTYP is surpisingly not found in df.\n",
      "GEOSCORE_KLS7 is surpisingly not found in df.\n",
      "HAUSHALTSSTRUKTUR is surpisingly not found in df.\n",
      "KBA13_CCM_1400_2500 is surpisingly not found in df.\n",
      "SOHO_FLAG is surpisingly not found in df.\n",
      "WACHSTUMSGEBIET_NB is surpisingly not found in df.\n",
      "New shape D : (42833, 347)\n"
     ]
    },
    {
     "data": {
      "text/plain": [
       "(42833, 347)"
      ]
     },
     "execution_count": 104,
     "metadata": {},
     "output_type": "execute_result"
    }
   ],
   "source": [
    "# Clean test data (last input as 0, means we do not want to remove rows with too many nan values)\n",
    "inputs_test_clean = clean_data(mailout_test,attributes,0)\n",
    "inputs_test_clean.shape"
   ]
  },
  {
   "cell_type": "code",
   "execution_count": 105,
   "metadata": {},
   "outputs": [
    {
     "data": {
      "text/plain": [
       "(42833, 33)"
      ]
     },
     "execution_count": 105,
     "metadata": {},
     "output_type": "execute_result"
    }
   ],
   "source": [
    "# Impute data for nan values. Scaling the data is not necessary for the RandomForest classifier.\n",
    "inputs_test_clean = imp.transform(inputs_test_clean)\n",
    "# Only columns of top features are kept for training\n",
    "inputs_test_clean = inputs_test_clean[:,idx_top_feat]\n",
    "inputs_test_clean.shape"
   ]
  },
  {
   "cell_type": "code",
   "execution_count": 107,
   "metadata": {},
   "outputs": [],
   "source": [
    "df_kaggle['RESPONSE'] = grid_search_ros.predict(inputs_test_clean)"
   ]
  },
  {
   "cell_type": "code",
   "execution_count": 110,
   "metadata": {},
   "outputs": [
    {
     "data": {
      "text/plain": [
       "Text(0.5,1,'RESPONSE for kaggle competition')"
      ]
     },
     "execution_count": 110,
     "metadata": {},
     "output_type": "execute_result"
    },
    {
     "data": {
      "image/png": "[encoded data removed]",
      "text/plain": [
       "<matplotlib.figure.Figure at 0x7fdc82eb6e10>"
      ]
     },
     "metadata": {
      "needs_background": "light"
     },
     "output_type": "display_data"
    }
   ],
   "source": [
    "df_kaggle['RESPONSE'].value_counts().plot(kind='bar')\n",
    "plt.title('RESPONSE for kaggle competition')"
   ]
  },
  {
   "cell_type": "code",
   "execution_count": null,
   "metadata": {},
   "outputs": [],
   "source": [
    "df_kaggle.save"
   ]
  }
 ],
 "metadata": {
  "kernelspec": {
   "display_name": "Python 3",
   "language": "python",
   "name": "python3"
  },
  "language_info": {
   "codemirror_mode": {
    "name": "ipython",
    "version": 3
   },
   "file_extension": ".py",
   "mimetype": "text/x-python",
   "name": "python",
   "nbconvert_exporter": "python",
   "pygments_lexer": "ipython3",
   "version": "3.6.3"
  }
 },
 "nbformat": 4,
 "nbformat_minor": 2
}
